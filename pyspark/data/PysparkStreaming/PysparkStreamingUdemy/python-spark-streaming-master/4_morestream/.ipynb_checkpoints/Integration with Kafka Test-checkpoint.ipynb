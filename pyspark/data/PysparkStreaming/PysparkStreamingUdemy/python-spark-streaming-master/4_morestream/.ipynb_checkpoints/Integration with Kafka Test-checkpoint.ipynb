{
 "cells": [
  {
   "cell_type": "markdown",
   "metadata": {},
   "source": [
    "# Integration with Kafka Test"
   ]
  },
  {
   "cell_type": "markdown",
   "metadata": {},
   "source": [
    "Performance Tuning\n",
    "Reference: https://spark.apache.org/docs/latest/streaming-programming-guide.html#performance-tuning\n",
    "Reducing the Batch Processing Times\n",
    "Level of Parallelism in Data Receiving\n",
    "Level of Parallelism in Data Processing\n",
    "Data Serialization\n",
    "Task Launching Overheads\n",
    "Setting the Right Batch Interval\n",
    "Memory Tuning\n",
    "Integration with Kafka\n",
    "Introduction to Kafka\n",
    "Why integrate with Kafka\n",
    "DEMO: Demo\n"
   ]
  },
  {
   "cell_type": "markdown",
   "metadata": {},
   "source": [
    "### Demo"
   ]
  },
  {
   "cell_type": "code",
   "execution_count": null,
   "metadata": {},
   "outputs": [],
   "source": [
    "import findspark\n",
    "# TODO: your path will likely not have 'matthew' in it. Change it to reflect your path.\n",
    "findspark.init('/home/matthew/spark-2.1.0-bin-hadoop2.7')"
   ]
  },
  {
   "cell_type": "code",
   "execution_count": null,
   "metadata": {
    "collapsed": true
   },
   "outputs": [],
   "source": [
    "import sys\n",
    "from pyspark import SparkContext\n",
    "from pyspark.streaming import StreamingContext\n",
    "from pyspark.streaming.kafka import KafkaUtils\n",
    "\n",
    "sc = SparkContext(appName=\"PythonStreamingKafkaWordCount\")\n",
    "ssc = StreamingContext(sc, 1)\n",
    "zkQuorum, topic = sys.argv[1:]\n",
    "kvs = KafkaUtils.createStream(ssc, zkQuorum, \"spark-streaming-consumer\", {topic: 1})\n",
    "lines = kvs.map(lambda x: x[1])\n",
    "counts = lines.flatMap(lambda line: line.split(\" \")).map(lambda word: (word, 1)).reduceByKey(lambda a, b: a+b)\n",
    "counts.pprint()\n",
    "\n",
    "ssc.start()\n",
    "ssc.awaitTermination()"
   ]
  },
  {
   "cell_type": "markdown",
   "metadata": {},
   "source": [
    "## References\n",
    "1. https://spark.apache.org/docs/latest/streaming-kafka-integration.html\n",
    "2. https://spark.apache.org/docs/latest/streaming-programming-guide.html#performance-tuning\n",
    "3. https://apache.googlesource.com/spark/+/master/examples/src/main/python/streaming/kafka_wordcount.py"
   ]
  },
  {
   "cell_type": "markdown",
   "metadata": {},
   "source": [
    " "
   ]
  }
 ],
 "metadata": {
  "kernelspec": {
   "display_name": "Python 3",
   "language": "python",
   "name": "python3"
  },
  "language_info": {
   "codemirror_mode": {
    "name": "ipython",
    "version": 3
   },
   "file_extension": ".py",
   "mimetype": "text/x-python",
   "name": "python",
   "nbconvert_exporter": "python",
   "pygments_lexer": "ipython3",
   "version": "3.5.2"
  }
 },
 "nbformat": 4,
 "nbformat_minor": 2
}
