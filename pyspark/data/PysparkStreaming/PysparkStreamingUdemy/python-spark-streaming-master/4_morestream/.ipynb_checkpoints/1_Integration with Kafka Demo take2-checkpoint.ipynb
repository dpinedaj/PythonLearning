{
 "cells": [
  {
   "cell_type": "markdown",
   "metadata": {},
   "source": [
    "# Getting Started with Spark Streaming with Python and Kafka"
   ]
  },
  {
   "cell_type": "markdown",
   "metadata": {},
   "source": [
    "Performance Tuning\n",
    "Reference: https://spark.apache.org/docs/latest/streaming-programming-guide.html#performance-tuning\n",
    "Reducing the Batch Processing Times\n",
    "Level of Parallelism in Data Receiving\n",
    "Level of Parallelism in Data Processing\n",
    "Data Serialization\n",
    "Task Launching Overheads\n",
    "Setting the Right Batch Interval\n",
    "Memory Tuning\n",
    "Integration with Kafka\n",
    "Introduction to Kafka\n",
    "Why integrate with Kafka\n",
    "DEMO: Demo\n"
   ]
  },
  {
   "cell_type": "code",
   "execution_count": null,
   "metadata": {},
   "outputs": [],
   "source": [
    "import findspark\n",
    "# TODO: your path will likely not have 'matthew' in it. Change it to reflect your path.\n",
    "findspark.init('/home/matthew/spark-2.1.0-bin-hadoop2.7')"
   ]
  },
  {
   "cell_type": "code",
   "execution_count": 1,
   "metadata": {
    "collapsed": true
   },
   "outputs": [],
   "source": [
    "import os\n",
    "os.environ['PYSPARK_SUBMIT_ARGS'] = '--packages org.apache.spark:spark-streaming-kafka-0-8_2.11:2.0.2 pyspark-shell'"
   ]
  },
  {
   "cell_type": "code",
   "execution_count": 2,
   "metadata": {
    "collapsed": true
   },
   "outputs": [],
   "source": [
    "# Spark\n",
    "from pyspark import SparkContext\n",
    "from pyspark.streaming import StreamingContext\n",
    "from pyspark.streaming.kafka import KafkaUtils\n",
    "import json"
   ]
  },
  {
   "cell_type": "code",
   "execution_count": 3,
   "metadata": {},
   "outputs": [],
   "source": [
    "sc = SparkContext(appName=\"PythonSparkStreamingKafka\")\n",
    "sc.setLogLevel(\"WARN\")"
   ]
  },
  {
   "cell_type": "code",
   "execution_count": 4,
   "metadata": {},
   "outputs": [],
   "source": [
    "ssc = StreamingContext(sc, 60) #Set batch duration for 1 minute"
   ]
  },
  {
   "cell_type": "code",
   "execution_count": 5,
   "metadata": {},
   "outputs": [],
   "source": [
    "kafkaStream = KafkaUtils.createStream(ssc, 'cdh57-01-node-01.moffatt.me:2181', 'spark-streaming', {'twitter':1})"
   ]
  },
  {
   "cell_type": "code",
   "execution_count": 6,
   "metadata": {
    "collapsed": true
   },
   "outputs": [],
   "source": [
    "parsed = kafkaStream.map(lambda v: json.loads(v[1]))"
   ]
  },
  {
   "cell_type": "code",
   "execution_count": 7,
   "metadata": {},
   "outputs": [],
   "source": [
    "# Count number of tweets in the batch\n",
    "parsed.count().map(lambda x:'Tweets in this batch: %s' % x).pprint()"
   ]
  },
  {
   "cell_type": "code",
   "execution_count": 8,
   "metadata": {},
   "outputs": [],
   "source": [
    "# Extract Author name from each tweet\n",
    "authors_dstream = parsed.map(lambda tweet: tweet['user']['screen_name'])"
   ]
  },
  {
   "cell_type": "code",
   "execution_count": 9,
   "metadata": {},
   "outputs": [],
   "source": [
    "# Count the number of tweets per author\n",
    "author_counts = authors_dstream.countByValue()\n",
    "author_counts.pprint()"
   ]
  },
  {
   "cell_type": "code",
   "execution_count": 10,
   "metadata": {},
   "outputs": [],
   "source": [
    "# Sort the author count\n",
    "author_counts_sorted_dstream = author_counts.transform(\\\n",
    "  (lambda foo:foo\\\n",
    "   .sortBy(lambda x:( -x[1]))))\n",
    "#   .sortBy(lambda x:(x[0].lower(), -x[1]))\\\n",
    "#  ))"
   ]
  },
  {
   "cell_type": "code",
   "execution_count": 11,
   "metadata": {},
   "outputs": [],
   "source": [
    "author_counts_sorted_dstream.pprint()"
   ]
  },
  {
   "cell_type": "code",
   "execution_count": 12,
   "metadata": {},
   "outputs": [],
   "source": [
    "# Get top 5 authors by tweet count\n",
    "top_five_authors = author_counts_sorted_dstream.transform\\\n",
    "  (lambda rdd:sc.parallelize(rdd.take(5)))\n",
    "top_five_authors.pprint()"
   ]
  },
  {
   "cell_type": "code",
   "execution_count": 13,
   "metadata": {},
   "outputs": [],
   "source": [
    "# Get authors with more than one tweet, or whose username starts with 'a'\n",
    "filtered_authors = author_counts.filter(lambda x:\\\n",
    "                                                x[1]>1 \\\n",
    "                                                or \\\n",
    "                                                x[0].lower().startswith('rm'))"
   ]
  },
  {
   "cell_type": "code",
   "execution_count": 14,
   "metadata": {},
   "outputs": [],
   "source": [
    "filtered_authors.transform\\\n",
    "  (lambda rdd:rdd\\\n",
    "  .sortBy(lambda x:-x[1]))\\\n",
    "  .pprint()"
   ]
  },
  {
   "cell_type": "code",
   "execution_count": 15,
   "metadata": {},
   "outputs": [],
   "source": [
    "# List the most common words in the tweets\n",
    "parsed.\\\n",
    "    flatMap(lambda tweet:tweet['text'].split(\" \"))\\\n",
    "    .countByValue()\\\n",
    "    .transform\\\n",
    "      (lambda rdd:rdd.sortBy(lambda x:-x[1]))\\\n",
    "    .pprint()"
   ]
  },
  {
   "cell_type": "code",
   "execution_count": 16,
   "metadata": {},
   "outputs": [
    {
     "name": "stdout",
     "output_type": "stream",
     "text": [
      "-------------------------------------------\n",
      "Time: 2017-01-11 15:34:00\n",
      "-------------------------------------------\n",
      "Tweets in this batch: 188\n",
      "\n",
      "-------------------------------------------\n",
      "Time: 2017-01-11 15:34:00\n",
      "-------------------------------------------\n",
      "(u'jenniekmz', 1)\n",
      "(u'SpamNewton', 1)\n",
      "(u'ShawtieMac', 1)\n",
      "(u'agathatochetti', 1)\n",
      "(u'Tommyguns_____', 1)\n",
      "(u'zwonderwomanzzz', 1)\n",
      "(u'Blesschubstin', 1)\n",
      "(u'Prikes5', 1)\n",
      "(u'MayaParms', 1)\n",
      "...\n",
      "\n",
      "-------------------------------------------\n",
      "Time: 2017-01-11 15:34:00\n",
      "-------------------------------------------\n",
      "(u'RitaBezerra12', 3)\n",
      "(u'xKYLN', 2)\n",
      "(u'yourmydw', 2)\n",
      "(u'wintersheat', 2)\n",
      "(u'biebercuzou', 2)\n",
      "(u'pchrin_', 2)\n",
      "(u'uslaybieber', 2)\n",
      "(u'rowblanchsrd', 2)\n",
      "(u'__Creammy__', 2)\n",
      "(u'jenniekmz', 1)\n",
      "...\n",
      "\n",
      "-------------------------------------------\n",
      "Time: 2017-01-11 15:34:00\n",
      "-------------------------------------------\n",
      "(u'RitaBezerra12', 3)\n",
      "(u'xKYLN', 2)\n",
      "(u'yourmydw', 2)\n",
      "(u'wintersheat', 2)\n",
      "(u'biebercuzou', 2)\n",
      "\n",
      "-------------------------------------------\n",
      "Time: 2017-01-11 15:34:00\n",
      "-------------------------------------------\n",
      "(u'RitaBezerra12', 3)\n",
      "(u'xKYLN', 2)\n",
      "(u'yourmydw', 2)\n",
      "(u'wintersheat', 2)\n",
      "(u'biebercuzou', 2)\n",
      "(u'pchrin_', 2)\n",
      "(u'uslaybieber', 2)\n",
      "(u'rowblanchsrd', 2)\n",
      "(u'__Creammy__', 2)\n",
      "\n",
      "-------------------------------------------\n",
      "Time: 2017-01-11 15:34:00\n",
      "-------------------------------------------\n",
      "(u'RT', 135)\n",
      "(u'Justin', 61)\n",
      "(u'Bieber', 59)\n",
      "(u'on', 41)\n",
      "(u'a', 32)\n",
      "(u'&amp;', 32)\n",
      "(u'Ros\\xe9', 31)\n",
      "(u'Drake', 31)\n",
      "(u'the', 29)\n",
      "(u'Love', 28)\n",
      "...\n",
      "\n",
      "-------------------------------------------\n",
      "Time: 2017-01-11 15:35:00\n",
      "-------------------------------------------\n",
      "Tweets in this batch: 399\n",
      "\n",
      "-------------------------------------------\n",
      "Time: 2017-01-11 15:35:00\n",
      "-------------------------------------------\n",
      "(u'iAmDrugzz', 1)\n",
      "(u'neocthings', 1)\n",
      "(u'nuanearr', 1)\n",
      "(u'loitersquadvid', 1)\n",
      "(u'__jaaaync', 1)\n",
      "(u'cocolofm', 2)\n",
      "(u'mrinamoreira', 1)\n",
      "(u'rxxxaedner03', 1)\n",
      "(u'BriceWagner', 1)\n",
      "(u'anaflsvia', 1)\n",
      "...\n",
      "\n",
      "-------------------------------------------\n",
      "Time: 2017-01-11 15:35:00\n",
      "-------------------------------------------\n",
      "(u'BoybelieberUsaf', 4)\n",
      "(u'RadioRideTheWav', 3)\n",
      "(u'cocolofm', 2)\n",
      "(u'lalainexxi', 2)\n",
      "(u'UpdatedCeleb', 2)\n",
      "(u'IPOmaven', 2)\n",
      "(u'JBVotesAwards', 2)\n",
      "(u'Melanie7118', 2)\n",
      "(u'cutesp0sjb', 2)\n",
      "(u'Trulyml', 2)\n",
      "...\n",
      "\n",
      "-------------------------------------------\n",
      "Time: 2017-01-11 15:35:00\n",
      "-------------------------------------------\n",
      "(u'BoybelieberUsaf', 4)\n",
      "(u'RadioRideTheWav', 3)\n",
      "(u'cocolofm', 2)\n",
      "(u'lalainexxi', 2)\n",
      "(u'UpdatedCeleb', 2)\n",
      "\n",
      "-------------------------------------------\n",
      "Time: 2017-01-11 15:35:00\n",
      "-------------------------------------------\n",
      "(u'BoybelieberUsaf', 4)\n",
      "(u'RadioRideTheWav', 3)\n",
      "(u'cocolofm', 2)\n",
      "(u'lalainexxi', 2)\n",
      "(u'UpdatedCeleb', 2)\n",
      "(u'IPOmaven', 2)\n",
      "(u'JBVotesAwards', 2)\n",
      "(u'Melanie7118', 2)\n",
      "(u'cutesp0sjb', 2)\n",
      "(u'Trulyml', 2)\n",
      "...\n",
      "\n",
      "-------------------------------------------\n",
      "Time: 2017-01-11 15:35:00\n",
      "-------------------------------------------\n",
      "(u'RT', 282)\n",
      "(u'Justin', 116)\n",
      "(u'Drake', 104)\n",
      "(u'Bieber', 102)\n",
      "(u'is', 85)\n",
      "(u'-', 78)\n",
      "(u'Love', 70)\n",
      "(u'in', 61)\n",
      "(u'the', 57)\n",
      "(u'Yourself', 50)\n",
      "...\n",
      "\n",
      "-------------------------------------------\n",
      "Time: 2017-01-11 15:36:00\n",
      "-------------------------------------------\n",
      "Tweets in this batch: 435\n",
      "\n",
      "-------------------------------------------\n",
      "Time: 2017-01-11 15:36:00\n",
      "-------------------------------------------\n",
      "(u'TushShan', 1)\n",
      "(u'tonkhawjaa', 1)\n",
      "(u'terrispiffybndz', 1)\n",
      "(u'YGIKON_0113', 1)\n",
      "(u'Chloeprotz', 1)\n",
      "(u'hvnybee', 1)\n",
      "(u'77u7uI8OXd2MXut', 1)\n",
      "(u'neewromantics', 1)\n",
      "(u'flatlinwz', 1)\n",
      "(u'lizzardkings', 1)\n",
      "...\n",
      "\n",
      "-------------------------------------------\n",
      "Time: 2017-01-11 15:36:00\n",
      "-------------------------------------------\n",
      "(u'socialvidpress1', 10)\n",
      "(u'leonilotp', 3)\n",
      "(u'boo_u_stink', 3)\n",
      "(u'bIaqpinked', 2)\n",
      "(u'itspinosanow', 2)\n",
      "(u'ultkimjichu', 2)\n",
      "(u'rannie_95', 2)\n",
      "(u'damiancarenza', 2)\n",
      "(u'dinughsaur', 2)\n",
      "(u'millenameirele4', 2)\n",
      "...\n",
      "\n",
      "-------------------------------------------\n",
      "Time: 2017-01-11 15:36:00\n",
      "-------------------------------------------\n",
      "(u'socialvidpress1', 10)\n",
      "(u'leonilotp', 3)\n",
      "(u'boo_u_stink', 3)\n",
      "(u'bIaqpinked', 2)\n",
      "(u'itspinosanow', 2)\n",
      "\n",
      "-------------------------------------------\n",
      "Time: 2017-01-11 15:36:00\n",
      "-------------------------------------------\n",
      "(u'socialvidpress1', 10)\n",
      "(u'leonilotp', 3)\n",
      "(u'boo_u_stink', 3)\n",
      "(u'bIaqpinked', 2)\n",
      "(u'itspinosanow', 2)\n",
      "(u'ultkimjichu', 2)\n",
      "(u'rannie_95', 2)\n",
      "(u'damiancarenza', 2)\n",
      "(u'dinughsaur', 2)\n",
      "(u'millenameirele4', 2)\n",
      "...\n",
      "\n",
      "-------------------------------------------\n",
      "Time: 2017-01-11 15:36:00\n",
      "-------------------------------------------\n",
      "(u'RT', 292)\n",
      "(u'Justin', 143)\n",
      "(u'Bieber', 134)\n",
      "(u'a', 87)\n",
      "(u'Love', 86)\n",
      "(u'Drake', 75)\n",
      "(u'on', 68)\n",
      "(u'Yourself', 59)\n",
      "(u'is', 59)\n",
      "(u'Ros\\xe9', 55)\n",
      "...\n",
      "\n"
     ]
    }
   ],
   "source": [
    "ssc.start()\n",
    "ssc.awaitTermination(timeout=180)"
   ]
  },
  {
   "cell_type": "markdown",
   "metadata": {},
   "source": [
    " "
   ]
  }
 ],
 "metadata": {
  "kernelspec": {
   "display_name": "Python 3",
   "language": "python",
   "name": "python3"
  },
  "language_info": {
   "codemirror_mode": {
    "name": "ipython",
    "version": 3
   },
   "file_extension": ".py",
   "mimetype": "text/x-python",
   "name": "python",
   "nbconvert_exporter": "python",
   "pygments_lexer": "ipython3",
   "version": "3.5.2"
  }
 },
 "nbformat": 4,
 "nbformat_minor": 1
}
