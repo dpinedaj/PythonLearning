{
 "cells": [
  {
   "cell_type": "markdown",
   "metadata": {},
   "source": [
    "# Integration with Kinesis Demo"
   ]
  },
  {
   "cell_type": "markdown",
   "metadata": {},
   "source": [
    "More information here: https://docs.aws.amazon.com/streams/latest/dev/before-you-begin.html\n",
    "\n",
    "and here: https://spark.apache.org/docs/latest/streaming-kinesis-integration.html"
   ]
  },
  {
   "cell_type": "markdown",
   "metadata": {},
   "source": [
    "Kinesis Data Generator: https://awslabs.github.io/amazon-kinesis-data-generator/\n",
    "\n",
    "After going through the setup, download this file as a .py file, go into the terminal, and run the following command:\n",
    "```\n",
    "python3 pyspark-streaming/4_morestream/2_Integration_with_Kinesis_Demo.py\n",
    "```\n",
    "    "
   ]
  },
  {
   "cell_type": "markdown",
   "metadata": {},
   "source": [
    "### Demo"
   ]
  },
  {
   "cell_type": "code",
   "execution_count": null,
   "metadata": {},
   "outputs": [],
   "source": [
    "import findspark\n",
    "# TODO: your path will likely not have 'matthew' in it. Change it to reflect your path.\n",
    "findspark.init('/home/matthew/spark-2.3.0-bin-hadoop2.7')\n",
    "\n",
    "import os\n",
    "os.environ['PYSPARK_SUBMIT_ARGS'] = '--packages org.apache.spark:spark-streaming-kinesis-asl_2.11:2.3.0 pyspark-shell'\n",
    "\n",
    "\n",
    "import sys\n",
    "import json\n",
    "import time\n",
    "from pyspark import SparkContext\n",
    "from pyspark.streaming import StreamingContext\n",
    "from pyspark.streaming.kinesis import KinesisUtils, InitialPositionInStream\n",
    "\n",
    "appName=\"PythonKinesisApp\"\n",
    "sc = SparkContext(appName=appName)\n",
    "ssc = StreamingContext(sc, 1)\n",
    "\n",
    "\n",
    "streamName = 'DemoStream'\n",
    "endpointUrl = 'https://kinesis.us-east-1.amazonaws.com'\n",
    "regionName = 'us-east-1'\n",
    "AWS_ACCESS_KEY_ID = ''\n",
    "SECRET_ACCESS_KEY = ''\n",
    "checkpointInterval = 5\n",
    "kinesisstream = KinesisUtils.createStream(ssc, appName, \n",
    "                                    streamName, endpointUrl, regionName, \n",
    "                                    InitialPositionInStream.LATEST, \n",
    "                                    checkpointInterval, \n",
    "                                    awsAccessKeyId=AWS_ACCESS_KEY_ID, \n",
    "                                    awsSecretKey=SECRET_ACCESS_KEY)\n",
    "lines = kinesisstream.map(lambda x: x[1])\n",
    "counts = lines.flatMap(lambda line: line.split(\" \")).map(lambda word: (word, 1)).reduceByKey(lambda a, b: a+b)\n",
    "counts.pprint()\n",
    "\n",
    "ssc.start()\n",
    "time.sleep(600) # Run stream for 10 minutes just in case no detection of producer\n",
    "# ssc.awaitTermination()\n",
    "ssc.stop(stopSparkContext=True,stopGraceFully=True)"
   ]
  },
  {
   "cell_type": "markdown",
   "metadata": {},
   "source": [
    "## References\n",
    "1. https://spark.apache.org/docs/latest/streaming-kinesis-integration.html\n",
    "2. https://spark.apache.org/docs/latest/streaming-programming-guide.html#performance-tuning"
   ]
  },
  {
   "cell_type": "markdown",
   "metadata": {},
   "source": [
    " "
   ]
  }
 ],
 "metadata": {
  "kernelspec": {
   "display_name": "Python 3",
   "language": "python",
   "name": "python3"
  },
  "language_info": {
   "codemirror_mode": {
    "name": "ipython",
    "version": 3
   },
   "file_extension": ".py",
   "mimetype": "text/x-python",
   "name": "python",
   "nbconvert_exporter": "python",
   "pygments_lexer": "ipython3",
   "version": "3.5.2"
  }
 },
 "nbformat": 4,
 "nbformat_minor": 2
}
