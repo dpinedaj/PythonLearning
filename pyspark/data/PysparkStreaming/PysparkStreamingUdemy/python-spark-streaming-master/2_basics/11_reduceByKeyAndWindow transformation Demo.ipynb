{
 "cells": [
  {
   "cell_type": "markdown",
   "metadata": {},
   "source": [
    "# reduceByKeyAndWindow transformation Demo"
   ]
  },
  {
   "cell_type": "markdown",
   "metadata": {},
   "source": [
    "| Transformation        | Meaning           |\n",
    "| -------------:|:-------------|\n",
    "| **reduceByKeyAndWindow**(func, windowLength, slideInterval, [numTasks])     | When called on a DStream of (K, V) pairs, returns a new DStream of (K, V) pairs where the values for each key are aggregated using the given reduce function func over batches in a sliding window. Note: By default, this uses Spark's default number of parallel tasks (2 for local mode, and in cluster mode the number is determined by the config property spark.default.parallelism) to do the grouping. You can pass an optional numTasks argument to set a different number of tasks. |\n",
    "| **reduceByKeyAndWindow**(func, invFunc, windowLength, slideInterval, [numTasks])      | A more efficient version of the above reduceByKeyAndWindow() where the reduce value of each window is calculated incrementally using the reduce values of the previous window. This is done by reducing the new data that enters the sliding window, and “inverse reducing” the old data that leaves the window. An example would be that of “adding” and “subtracting” counts of keys as the window slides. However, it is applicable only to “invertible reduce functions”, that is, those reduce functions which have a corresponding “inverse reduce” function (taken as parameter invFunc). Like in reduceByKeyAndWindow, the number of reduce tasks is configurable through an optional argument. Note that checkpointing must be enabled for using this operation.      |\n"
   ]
  },
  {
   "cell_type": "markdown",
   "metadata": {},
   "source": [
    "### Demo"
   ]
  },
  {
   "cell_type": "code",
   "execution_count": 1,
   "metadata": {},
   "outputs": [],
   "source": [
    "import findspark\n",
    "# TODO: your path will likely not have 'matthew' in it. Change it to reflect your path.\n",
    "findspark.init('/home/matthew/spark-2.1.0-bin-hadoop2.7')"
   ]
  },
  {
   "cell_type": "code",
   "execution_count": 2,
   "metadata": {},
   "outputs": [],
   "source": [
    "from pyspark import SparkContext\n",
    "from pyspark.streaming import StreamingContext"
   ]
  },
  {
   "cell_type": "code",
   "execution_count": 3,
   "metadata": {},
   "outputs": [],
   "source": [
    "sc = SparkContext(master=\"local[2]\", appName=\"reduceByKeyAndWindowWordcount\")\n",
    "ssc = StreamingContext(sc, 1)\n",
    "ssc.checkpoint(\"checkpoint\")"
   ]
  },
  {
   "cell_type": "code",
   "execution_count": 4,
   "metadata": {},
   "outputs": [],
   "source": [
    "lines = ssc.socketTextStream(\"localhost\", 7777)"
   ]
  },
  {
   "cell_type": "code",
   "execution_count": 5,
   "metadata": {},
   "outputs": [],
   "source": [
    "words = lines.flatMap(lambda line: line.split(\" \"))\n",
    "pairs = words.map(lambda word: (word, 1))\n",
    "pairs.reduceByKeyAndWindow(lambda x,y: (x + y), 30, 10).pprint()"
   ]
  },
  {
   "cell_type": "code",
   "execution_count": 6,
   "metadata": {
    "scrolled": true
   },
   "outputs": [
    {
     "name": "stdout",
     "output_type": "stream",
     "text": [
      "-------------------------------------------\n",
      "Time: 2018-02-09 02:16:32\n",
      "-------------------------------------------\n",
      "\n",
      "-------------------------------------------\n",
      "Time: 2018-02-09 02:16:33\n",
      "-------------------------------------------\n",
      "\n",
      "-------------------------------------------\n",
      "Time: 2018-02-09 02:16:34\n",
      "-------------------------------------------\n",
      "\n",
      "-------------------------------------------\n",
      "Time: 2018-02-09 02:16:35\n",
      "-------------------------------------------\n",
      "\n",
      "-------------------------------------------\n",
      "Time: 2018-02-09 02:16:36\n",
      "-------------------------------------------\n",
      "\n",
      "-------------------------------------------\n",
      "Time: 2018-02-09 02:16:37\n",
      "-------------------------------------------\n",
      "('hello', 1)\n",
      "\n",
      "-------------------------------------------\n",
      "Time: 2018-02-09 02:16:38\n",
      "-------------------------------------------\n",
      "('hello', 1)\n",
      "\n",
      "-------------------------------------------\n",
      "Time: 2018-02-09 02:16:39\n",
      "-------------------------------------------\n",
      "('hello', 2)\n",
      "\n",
      "-------------------------------------------\n",
      "Time: 2018-02-09 02:16:40\n",
      "-------------------------------------------\n",
      "('hello', 3)\n",
      "\n",
      "-------------------------------------------\n",
      "Time: 2018-02-09 02:16:41\n",
      "-------------------------------------------\n",
      "('hello', 3)\n",
      "\n",
      "-------------------------------------------\n",
      "Time: 2018-02-09 02:16:42\n",
      "-------------------------------------------\n",
      "('hello', 3)\n",
      "\n",
      "-------------------------------------------\n",
      "Time: 2018-02-09 02:16:43\n",
      "-------------------------------------------\n",
      "('hello', 3)\n",
      "\n",
      "-------------------------------------------\n",
      "Time: 2018-02-09 02:16:44\n",
      "-------------------------------------------\n",
      "('hello', 3)\n",
      "\n",
      "-------------------------------------------\n",
      "Time: 2018-02-09 02:16:45\n",
      "-------------------------------------------\n",
      "('hello', 3)\n",
      "\n",
      "-------------------------------------------\n",
      "Time: 2018-02-09 02:16:46\n",
      "-------------------------------------------\n",
      "('hello', 7)\n",
      "\n"
     ]
    }
   ],
   "source": [
    "ssc.start()"
   ]
  },
  {
   "cell_type": "code",
   "execution_count": null,
   "metadata": {},
   "outputs": [],
   "source": [
    "ssc.stop(stopSparkContext=True, stopGraceFully=True)"
   ]
  },
  {
   "cell_type": "markdown",
   "metadata": {},
   "source": [
    "## References\n",
    "1. https://spark.apache.org/docs/latest/streaming-programming-guide.html#window-operations"
   ]
  },
  {
   "cell_type": "markdown",
   "metadata": {},
   "source": [
    " "
   ]
  }
 ],
 "metadata": {
  "kernelspec": {
   "display_name": "Python 3",
   "language": "python",
   "name": "python3"
  },
  "language_info": {
   "codemirror_mode": {
    "name": "ipython",
    "version": 3
   },
   "file_extension": ".py",
   "mimetype": "text/x-python",
   "name": "python",
   "nbconvert_exporter": "python",
   "pygments_lexer": "ipython3",
   "version": "3.5.2"
  }
 },
 "nbformat": 4,
 "nbformat_minor": 2
}
