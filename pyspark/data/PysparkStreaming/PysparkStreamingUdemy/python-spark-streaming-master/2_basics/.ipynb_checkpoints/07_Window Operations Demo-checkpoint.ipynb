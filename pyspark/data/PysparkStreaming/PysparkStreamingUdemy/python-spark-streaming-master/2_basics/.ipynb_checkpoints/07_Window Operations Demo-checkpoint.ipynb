{
 "cells": [
  {
   "cell_type": "markdown",
   "metadata": {},
   "source": [
    "# Window Operations Demo"
   ]
  },
  {
   "cell_type": "markdown",
   "metadata": {},
   "source": [
    "Spark Streaming provides windowed computations, which allow you to apply transformations over a sliding window of data. The following figure illustrates this sliding window.\n",
    "\n",
    "![Spark Streaming Data Flow](https://spark.apache.org/docs/latest/img/streaming-dstream-window.png)\n",
    "\n",
    "As shown in the figure, every time the window slides over a source DStream, the source RDDs that fall within the window are combined and operated upon to produce the RDDs of the windowed DStream. In this specific case, the operation is applied over the last 3 time units of data, and slides by 2 time units. This shows that any window operation needs to specify two parameters\n",
    "\n",
    "* window length - The duration of the window (3 in the figure).\n",
    "* sliding interval - The interval at which the window operation is performed (2 in the figure).\n",
    "\n",
    "These two parameters must be multiples of the batch interval of the source DStream (1 in the figure).\n",
    "<p>\n",
    "Some of the common window operations are as follows. All of these operations take the said two parameters - windowLength and slideInterval.\n",
    "\n",
    "\n",
    "| Transformation        | Meaning           |\n",
    "| -------------:|:-------------|\n",
    "| **window**(windowLength, slideInterval)      | Return a new DStream which is computed based on windowed batches of the source DStream. |\n",
    "| **countByWindow**(windowLength, slideInterval)     | Return a sliding window count of elements in the stream.     |\n",
    "| **reduceByWindow**(func, windowLength, slideInterval) | Return a new single-element stream, created by aggregating elements in the stream over a sliding interval using func. The function should be associative and commutative so that it can be computed correctly in parallel.     |\n",
    "| **reduceByKeyAndWindow**(func, windowLength, slideInterval, [numTasks])     | When called on a DStream of (K, V) pairs, returns a new DStream of (K, V) pairs where the values for each key are aggregated using the given reduce function func over batches in a sliding window. Note: By default, this uses Spark's default number of parallel tasks (2 for local mode, and in cluster mode the number is determined by the config property spark.default.parallelism) to do the grouping. You can pass an optional numTasks argument to set a different number of tasks. |\n",
    "| **reduceByKeyAndWindow**(func, invFunc, windowLength, slideInterval, [numTasks])      | A more efficient version of the above reduceByKeyAndWindow() where the reduce value of each window is calculated incrementally using the reduce values of the previous window. This is done by reducing the new data that enters the sliding window, and “inverse reducing” the old data that leaves the window. An example would be that of “adding” and “subtracting” counts of keys as the window slides. However, it is applicable only to “invertible reduce functions”, that is, those reduce functions which have a corresponding “inverse reduce” function (taken as parameter invFunc). Like in reduceByKeyAndWindow, the number of reduce tasks is configurable through an optional argument. Note that checkpointing must be enabled for using this operation.      |\n",
    "| **countByValueAndWindow**(windowLength, slideInterval, [numTasks]) | When called on a DStream of (K, V) pairs, returns a new DStream of (K, Long) pairs where the value of each key is its frequency within a sliding window. Like in reduceByKeyAndWindow, the number of reduce tasks is configurable through an optional argument.      |"
   ]
  },
  {
   "cell_type": "markdown",
   "metadata": {},
   "source": [
    "### Demo"
   ]
  },
  {
   "cell_type": "code",
   "execution_count": 1,
   "metadata": {},
   "outputs": [],
   "source": [
    "import findspark\n",
    "# TODO: your path will likely not have 'matthew' in it. Change it to reflect your path.\n",
    "findspark.init('/home/matthew/spark-2.1.0-bin-hadoop2.7')"
   ]
  },
  {
   "cell_type": "code",
   "execution_count": 2,
   "metadata": {},
   "outputs": [],
   "source": [
    "from pyspark import SparkContext\n",
    "from pyspark.streaming import StreamingContext"
   ]
  },
  {
   "cell_type": "code",
   "execution_count": 3,
   "metadata": {},
   "outputs": [],
   "source": [
    "sc = SparkContext(master=\"local[2]\", appName=\"WindowWordcount\")\n",
    "ssc = StreamingContext(sc, 1)\n",
    "ssc.checkpoint(\"checkpoint\")"
   ]
  },
  {
   "cell_type": "code",
   "execution_count": 4,
   "metadata": {},
   "outputs": [],
   "source": [
    "lines = ssc.socketTextStream(\"localhost\", 5555)"
   ]
  },
  {
   "cell_type": "code",
   "execution_count": 5,
   "metadata": {},
   "outputs": [],
   "source": [
    "words = lines.flatMap(lambda line: line.split(\" \"))\n",
    "pairs = words.map(lambda word: (word, 1))\n",
    "pairs.window(30, 10).pprint()"
   ]
  },
  {
   "cell_type": "code",
   "execution_count": 6,
   "metadata": {},
   "outputs": [
    {
     "name": "stdout",
     "output_type": "stream",
     "text": [
      "-------------------------------------------\n",
      "Time: 2018-02-08 22:52:53\n",
      "-------------------------------------------\n",
      "\n",
      "-------------------------------------------\n",
      "Time: 2018-02-08 22:53:03\n",
      "-------------------------------------------\n",
      "('hello', 1)\n",
      "\n",
      "-------------------------------------------\n",
      "Time: 2018-02-08 22:53:13\n",
      "-------------------------------------------\n",
      "('hello', 1)\n",
      "('hello', 1)\n",
      "('hello', 1)\n",
      "('hello', 1)\n",
      "('hello', 1)\n",
      "('hello', 1)\n",
      "('hello', 1)\n",
      "\n",
      "-------------------------------------------\n",
      "Time: 2018-02-08 22:53:23\n",
      "-------------------------------------------\n",
      "('hello', 1)\n",
      "('hello', 1)\n",
      "('hello', 1)\n",
      "('hello', 1)\n",
      "('hello', 1)\n",
      "('hello', 1)\n",
      "('hello', 1)\n",
      "('This', 1)\n",
      "('is', 1)\n",
      "('a', 1)\n",
      "...\n",
      "\n",
      "-------------------------------------------\n",
      "Time: 2018-02-08 22:53:33\n",
      "-------------------------------------------\n",
      "('hello', 1)\n",
      "('hello', 1)\n",
      "('hello', 1)\n",
      "('hello', 1)\n",
      "('hello', 1)\n",
      "('hello', 1)\n",
      "('This', 1)\n",
      "('is', 1)\n",
      "('a', 1)\n",
      "('different', 1)\n",
      "...\n",
      "\n",
      "-------------------------------------------\n",
      "Time: 2018-02-08 22:53:43\n",
      "-------------------------------------------\n",
      "('This', 1)\n",
      "('is', 1)\n",
      "('a', 1)\n",
      "('different', 1)\n",
      "('sentence', 1)\n",
      "('This', 1)\n",
      "('is', 1)\n",
      "('another', 1)\n",
      "('different', 1)\n",
      "('sentence', 1)\n",
      "...\n",
      "\n",
      "-------------------------------------------\n",
      "Time: 2018-02-08 22:53:53\n",
      "-------------------------------------------\n",
      "('This', 1)\n",
      "('is', 1)\n",
      "('another', 1)\n",
      "('different', 1)\n",
      "('sentence', 1)\n",
      "('I', 1)\n",
      "('am', 1)\n",
      "('Sam', 1)\n",
      "('', 1)\n",
      "('I', 1)\n",
      "...\n",
      "\n",
      "-------------------------------------------\n",
      "Time: 2018-02-08 22:54:03\n",
      "-------------------------------------------\n",
      "('I', 1)\n",
      "('am', 1)\n",
      "('Sam', 1)\n",
      "('', 1)\n",
      "('I', 1)\n",
      "('am', 1)\n",
      "('Sam', 1)\n",
      "('Sam', 1)\n",
      "('I', 1)\n",
      "('am', 1)\n",
      "...\n",
      "\n",
      "-------------------------------------------\n",
      "Time: 2018-02-08 22:54:13\n",
      "-------------------------------------------\n",
      "('Sam-I-am', 1)\n",
      "\n",
      "-------------------------------------------\n",
      "Time: 2018-02-08 22:54:23\n",
      "-------------------------------------------\n",
      "\n"
     ]
    }
   ],
   "source": [
    "ssc.start()"
   ]
  },
  {
   "cell_type": "code",
   "execution_count": 7,
   "metadata": {},
   "outputs": [],
   "source": [
    "ssc.stop(stopSparkContext=True, stopGraceFully=True)"
   ]
  },
  {
   "cell_type": "markdown",
   "metadata": {},
   "source": [
    "## References\n",
    "1. https://spark.apache.org/docs/latest/streaming-programming-guide.html#window-operations"
   ]
  },
  {
   "cell_type": "markdown",
   "metadata": {},
   "source": [
    " "
   ]
  }
 ],
 "metadata": {
  "kernelspec": {
   "display_name": "Python 3",
   "language": "python",
   "name": "python3"
  },
  "language_info": {
   "codemirror_mode": {
    "name": "ipython",
    "version": 3
   },
   "file_extension": ".py",
   "mimetype": "text/x-python",
   "name": "python",
   "nbconvert_exporter": "python",
   "pygments_lexer": "ipython3",
   "version": "3.5.2"
  }
 },
 "nbformat": 4,
 "nbformat_minor": 2
}
