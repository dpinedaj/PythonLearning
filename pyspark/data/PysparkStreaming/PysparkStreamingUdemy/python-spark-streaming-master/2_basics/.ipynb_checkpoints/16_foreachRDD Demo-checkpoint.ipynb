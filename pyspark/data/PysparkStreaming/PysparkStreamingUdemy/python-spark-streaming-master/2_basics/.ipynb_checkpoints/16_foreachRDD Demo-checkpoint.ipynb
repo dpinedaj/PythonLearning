{
 "cells": [
  {
   "cell_type": "markdown",
   "metadata": {},
   "source": [
    "# foreachRDD Demo"
   ]
  },
  {
   "cell_type": "markdown",
   "metadata": {},
   "source": [
    "`dstream.foreachRDD` is a powerful primitive that allows data to be sent out to external systems. However, it is important to understand how to use this primitive correctly and efficiently. Some of the common mistakes to avoid are as follows.\n",
    "\n",
    "Often writing data to external system requires creating a connection object (e.g. TCP connection to a remote server) and using it to send data to a remote system. For this purpose, a developer may inadvertently try creating a connection object at the Spark driver, and then try to use it in a Spark worker to save records in the RDDs. For example (in Scala),\n",
    "```python\n",
    "def sendRecord(rdd):\n",
    "    connection = createNewConnection()  # executed at the driver\n",
    "    rdd.foreach(lambda record: connection.send(record))\n",
    "    connection.close()\n",
    "\n",
    "dstream.foreachRDD(sendRecord)\n",
    "```\n",
    "This is incorrect as this requires the connection object to be serialized and sent from the driver to the worker. Such connection objects are rarely transferable across machines. This error may manifest as serialization errors (connection object not serializable), initialization errors (connection object needs to be initialized at the workers), etc. The correct solution is to create the connection object at the worker.\n",
    "\n",
    "However, this can lead to another common mistake - creating a new connection for every record. For example,\n",
    "```python\n",
    "def sendRecord(record):\n",
    "    connection = createNewConnection()\n",
    "    connection.send(record)\n",
    "    connection.close()\n",
    "\n",
    "dstream.foreachRDD(lambda rdd: rdd.foreach(sendRecord))\n",
    "```\n",
    "Typically, creating a connection object has time and resource overheads. Therefore, creating and destroying a connection object for each record can incur unnecessarily high overheads and can significantly reduce the overall throughput of the system. A better solution is to use `rdd.foreachPartition` - create a single connection object and send all the records in a RDD partition using that connection.\n",
    "```python\n",
    "def sendPartition(iter):\n",
    "    connection = createNewConnection()\n",
    "    for record in iter:\n",
    "        connection.send(record)\n",
    "    connection.close()\n",
    "\n",
    "dstream.foreachRDD(lambda rdd: rdd.foreachPartition(sendPartition))\n",
    "```\n",
    "This amortizes the connection creation overheads over many records.\n",
    "\n",
    "Finally, this can be further optimized by reusing connection objects across multiple RDDs/batches. One can maintain a static pool of connection objects than can be reused as RDDs of multiple batches are pushed to the external system, thus further reducing the overheads.\n",
    "```python\n",
    "def sendPartition(iter):\n",
    "    # ConnectionPool is a static, lazily initialized pool of connections\n",
    "    connection = ConnectionPool.getConnection()\n",
    "    for record in iter:\n",
    "        connection.send(record)\n",
    "    # return to the pool for future reuse\n",
    "    ConnectionPool.returnConnection(connection)\n",
    "\n",
    "dstream.foreachRDD(lambda rdd: rdd.foreachPartition(sendPartition))\n",
    "```\n",
    "Note that the connections in the pool should be lazily created on demand and timed out if not used for a while. This achieves the most efficient sending of data to external systems.\n",
    "\n",
    "**Other points to remember:**\n",
    "\n",
    "* DStreams are executed lazily by the output operations, just like RDDs are lazily executed by RDD actions. Specifically, RDD actions inside the DStream output operations force the processing of the received data. Hence, if your application does not have any output operation, or has output operations like `dstream.foreachRDD()` without any RDD action inside them, then nothing will get executed. The system will simply receive the data and discard it.\n",
    "* By default, output operations are executed one-at-a-time. And they are executed in the order they are defined in the application.\n"
   ]
  },
  {
   "cell_type": "markdown",
   "metadata": {},
   "source": [
    "### Demo"
   ]
  },
  {
   "cell_type": "code",
   "execution_count": 1,
   "metadata": {},
   "outputs": [],
   "source": [
    "import findspark\n",
    "# TODO: your path will likely not have 'matthew' in it. Change it to reflect your path.\n",
    "findspark.init('/home/matthew/spark-2.1.0-bin-hadoop2.7')"
   ]
  },
  {
   "cell_type": "code",
   "execution_count": 2,
   "metadata": {},
   "outputs": [],
   "source": [
    "from pyspark import SparkContext\n",
    "from pyspark.streaming import StreamingContext"
   ]
  },
  {
   "cell_type": "code",
   "execution_count": 3,
   "metadata": {},
   "outputs": [],
   "source": [
    "sc = SparkContext(master=\"local[2]\", appName=\"SparkforEachRDDapp\")\n",
    "ssc = StreamingContext(sc, 10)"
   ]
  },
  {
   "cell_type": "code",
   "execution_count": 4,
   "metadata": {},
   "outputs": [],
   "source": [
    "myFile = ssc.textFileStream(\"data\")\n",
    "wordspair = myFile.flatMap(lambda row: row.split(\" \")).map(lambda x: (x, 1)).reduceByKey(lambda x,y : x + y)\n",
    "oldwordcount = wordspair.reduceByKey(lambda x,y : x + y)"
   ]
  },
  {
   "cell_type": "code",
   "execution_count": 5,
   "metadata": {},
   "outputs": [],
   "source": [
    "def rdd_print(rdd):\n",
    "    a = rdd.collect()\n",
    "    print(a)"
   ]
  },
  {
   "cell_type": "code",
   "execution_count": 6,
   "metadata": {},
   "outputs": [],
   "source": [
    "oldwordcount.foreachRDD(rdd_print)"
   ]
  },
  {
   "cell_type": "code",
   "execution_count": 7,
   "metadata": {},
   "outputs": [
    {
     "name": "stdout",
     "output_type": "stream",
     "text": [
      "[]\n",
      "[]\n",
      "[('', 196), ('step', 1), ('No!', 3), ('was', 20), ('sunny.', 1), ('quiet', 1), ('Just', 1), ('head', 5), ('WALK', 3), ('bangs', 1), ('hop?', 1), ('frown,', 1), ('kite', 3), ('in', 117), ('start', 1), ('band', 2), ('books!', 2), ('Ying.', 1), ('yell.', 1), ('as', 11), ('why', 1), ('Whos,', 4), ('do?\"', 1), ('fall.', 1), ('star.', 1), ('right', 4), (\"That's\", 5), ('Will', 6), ('eyes!', 1), ('kites,\"', 1), ('whose', 3), ('three...', 1), ('Things', 9), ('work', 1), ('cat', 4), ('Without', 1), ('dark.', 5), ('home!', 1), ('snarled', 1), ('done,', 1), ('too.', 2), ('Two', 6), ('\"Giddap!\"', 1), ('her', 8), ('poodle', 3), ('Down', 2), ('Christmas!', 2), ('new', 8), ('Staring', 1), ('shine.', 1), ('fear', 1), ('quarter', 1), ('cup.', 1), ('TALL', 1), ('glad,', 1), ('\"What', 1), ('got', 5), ('took', 8), ('books,', 1), ('run.', 1), ('Hat.', 4), ('Gump.', 1), ('Leaving', 1), ('around', 1), ('games', 1), ('pet?', 1), ('hose', 2), ('RED', 4), ('Goo-Goose,', 1), ('fooled', 1), ('jump', 1), ('near?', 1), ('mixed', 1), ('Another', 1), ('give', 1), ('thousand', 1), ('fish', 16), ('Blue', 5), ('THEN', 2), ('\"This', 2), ('sad', 2), ('WENT', 1), ('Pat', 3), ('heard', 1), ('do!\"', 4), ('fox?', 1), ('haircut', 1), ('say', 5), ('away', 1), ('Not', 24), ('than', 1), ('band.', 2), ('TWO', 1), ('ham', 1), ('Was', 4), ('finger', 2), ('dad.', 1), ('rid', 1), ('blocks', 3), ('One,', 2), ('\"Now,', 1), ('pup.', 1), ('must', 3), ('hat,', 1), ('some.', 2), ('try', 2), ('Please,', 1), ('Knox.', 2), ('feel', 1), ('mistletoe', 1), ('Old', 1), ('\"That', 3), ('Brown?', 1), ('trick,', 2), ('asnooze', 2), ('ever', 4), ('here,', 1), ('train?', 1), ('Cook.', 1), ('patted', 1), ('cat,', 3), ('see.', 4), ('ca', 1), ('House', 1), ('mother!', 1), ('Freezy', 2), ('Grew', 1), ('started', 4), ('like', 86), ('SENT', 1), ('whizzed', 1), ('SAY', 2), ('walk.', 2), ('car,', 1), ('NOW!', 1), ('Red.', 1), ('muddle.', 1), ('sews', 9), ('red.', 1), ('tree.', 5), ('pot!', 1), ('red,', 1), ('clocks,', 2), (\"Ben's\", 5), ('PAT', 6), ('us', 5), ('them.', 3), ('you?', 2), ('ham?', 1), ('Now', 4), ('broom.', 4), ('light,', 1), ('blocks,', 1), ('YELP', 1), ('fish.', 6), ('store.\"', 1), ('freeze.', 2), ('all....\"', 1), ('shame,', 1), ('MUST', 3), ('Lay', 1), ('surprise!', 1), ('nervously', 1), ('THEN!', 1), ('slow.', 1), (\"Mother's\", 1), ('Well...', 2), ('an', 3), (\"Bim's\", 5), ('wire.', 1), ('three', 6), ('go', 7), ('would', 24), ('bed?', 2), ('four,', 1), (\"Who'd\", 1), ('house.', 9), ('snow,', 1), ('high.', 2), ('no', 10), ('licks', 4), ('said', 13), ('near', 2), ('GET', 1), ('sad,', 1), ('now', 2), ('liked', 1), ('May', 1), ('quite', 3), ('Ying', 2), ('dear.', 2), ('sun.', 1), ('home.', 1), ('more!\"', 1), ('paused.', 1), ('eight,', 1), ('new?', 2), ('fun?', 1), ('singing!', 2), ('BROWN', 2), ('cat!', 1), ('sound', 4), (\"wasn't\", 2), ('Jim', 1), ('fox,', 1), ('them!', 5), ('She', 2), ('battle.', 4), ('THIS', 1), ('rake.', 1), ('Comb,', 1), ('fake', 1), ('put', 4), (\"didn't\", 1), ('picked', 1), ('shame!\"', 1), ('looked', 1), ('stuck', 2), ('he', 63), ('down!', 2), ('far,', 1), ('bit!\"', 2), ('One!', 2), ('cut', 1), ('cave', 1), ('shoes,', 1), ('look!\"', 1), ('shove,', 1), ('pack', 1), ('Which', 1), ('happened', 1), ('sir?', 2), ('cold', 2), ('These', 3), ('think.', 1), ('Hose', 1), ('bed!', 2), ('paddles', 3), ('noodles...', 1), ('ink', 1), ('never', 3), ('Bim', 5), ('but', 2), ('hear,', 1), ('night', 1), ('fly', 3), ('there.', 10), ('even', 2), ('coo', 1), ('sheep.', 1), ('Grinchy', 3), ('BUMP!', 2), ('reason,', 1), ('tail', 1), ('blew.', 1), ('open', 3), ('easy,', 1), ('brick', 1), ('kind', 2), ('looked!', 2), ('well,', 2), ('last', 2), ('d', 1), ('Knox', 8), ('nose.', 1), ('one,\"', 1), (\"couldn't\", 2), ('HAD', 1), ('Sit!', 4), ('goat?', 1), ('today.', 1), ('Slow', 5), ('this', 38), ('no.', 2), ('sir,', 6), ('packages,', 1), ('Ned', 1), ('car.', 2), ('more', 3), ('rush', 1), ('...a', 1), ('this,', 2), ('chew,', 2), ('beast!', 2), ('ribbons!', 2), ('Mother', 1), ('Too', 1), ('sing', 5), ('instead!\"', 1), ('poor', 2), ('things,\"', 1), ('BROTHER', 1), ('\"PoohPooh', 1), ('night.', 3), ('YOU?', 1), ('way!\"', 1), ('hear!', 1), ('HE', 2), ('walked', 1), ('hop,', 4), ('pink,', 1), (\"trees'\", 1), ('thin,', 1), ('gown!', 1), ('sticks', 1), (\"They'd\", 4), ('Every', 4), ('blubber!', 1), ('see!', 1), ('yell,', 2), ('brush', 3), ('grinned', 2), ('home', 1), ('ball!', 2), ('Say', 1), ('these', 7), ('...', 1), ('Thank', 3), ('unpleasant,', 1), ('bed.', 3), ('goes', 1), ('noodle', 2), ('present!', 1), ('Christmas...perhaps...means', 1), ('enough,', 1), ('socks?', 2), ('likes', 8), ('fix', 1), ('not.', 4), ('muddle', 1), ('cow,', 1), ('hang', 1), ('\"Put', 1), ('SISTER', 1), ('hung', 1), ('Cindy-Lou', 1), ('sing!', 3), ('always', 1), ('Somehow', 1), ('Santy', 2), (\"Whos'\", 3), ('fingers', 2), ('Fox,', 3), ('same!', 1), ('bags', 2), ('packed', 1), ('slithered', 1), ('Chicks', 3), ('found.', 1), ('bring', 2), ('ChristmasSing,', 1), ('GOT', 1), ('sat', 7), ('ran', 5), ('feast', 1), ('crumbs', 1), ('Sue', 5), ('think', 1), ('Thoe', 1), ('his', 28), ('ham!', 3), ('house?', 2), ('beetles', 6), ('milk,', 1), ('all!\"', 1), ('chewy', 1), ('noise,\"', 1), ('bet.', 1), ('Do', 3), ('guns!', 1), ('ship,', 2), ('all...', 1), ('did!\"', 1), (\"HADN'T\", 1), ('Quiet', 1), ('stack.', 4), ('merry!', 2), ('hat', 3), ('rising', 1), ('them,', 10), ('Today', 2), ('clocks', 2), ('early.', 1), ('hop.', 1), ('sizes', 2), ('cry', 1), ('sweet', 2), ('One', 5), ('story', 1), ('BAD', 1), ('Bump!', 7), ('beast.', 1), (\"Crow's\", 3), ('goes.', 1), ('before!', 1), ('do', 66), ('tree,', 1), ('here!', 1), ('go.', 1), ('hand!', 1), (\"I've\", 1), ('lived', 1), ('cup,', 2), ('live', 1), ('BALL', 2), ('sorry,', 1), ('then...', 2), ('Say!', 6), ('hops', 1), ('rake!', 1), ('tomorrow', 1), ('Oh,', 14), ('car?', 1), ('Zans.', 1), ('Roller', 1), ('Let', 1), ('yet', 1), ('bumps,', 1), ('wrappings!', 1), ('years', 1), ('dreaming', 1), ('I?', 2), ('night.HE', 1), ('name', 2), ('tame!', 1), ('fight,', 1), ('hate', 1), ('this!', 1), ('Zeep.', 1), ('WHERE', 1), ('hit!', 1), ('told.', 1), ('game...', 1), ('\"So,', 1), ('tree!\"', 1), ('plums!', 1), ('there,', 5), ('he,', 1), ('Sam,', 1), ('Bricks', 1), ('teeth', 2), ('free', 2), ('paddle', 4), ('head,', 1), ('grows', 2), ('grinch-feet', 1), ('tweetle', 11), ('very,', 1), ('where', 2), ('song.', 1), ('stopped', 1), ('way', 4), ('At', 4), ('so...', 2), ('Stop', 2), ('help', 1), ('Again', 1), ('chick', 1), ('Then', 36), ('may', 4), ('Mike,', 1), ('no,', 1), ('rain.', 3), ('Black', 1), ('father', 1), ('shoes', 1), ('Hello,', 1), ('Mouse', 1), ('none', 1), ('hissed,', 1), ('walk', 2), ('together,', 1), ('back,', 1), ('WET', 1), ('mat!', 1), ('thing!\"', 1), ('Hello.', 1), ('down.', 4), ('thing?THING', 1), ('air.', 1), ('presents!', 1), ('\"Why,', 3), ('Clocks', 2), ('tricks', 3), ('there', 8), ('tiny', 1), ('bird', 3), ('mess,\"', 1), ('tinsel!', 1), ('smart', 1), ('tree', 2), ('six,', 1), ('chuckled,', 1), ('sits', 1), ('Clark.', 1), ('shook', 3), ('brother.', 1), ('it,', 3), ('low.', 3), ('sun', 2), ('Much', 1), ('milk', 3), ('are', 34), ('Up', 2), ('boat.', 1), ('young', 1), ('us?', 1), ('JUMP', 1), ('please....', 1), ('at', 21), ('ten', 1), ('Good', 2), ('BLACK', 1), ('liar.', 1), ('That', 10), ('stared', 2), ('Two?\"', 1), ('HELP', 1), ('stand', 4), ('long', 2), ('\"These', 2), ('BED', 2), ('something', 11), ('band!', 4), ('Ben', 5), ('last!', 1), ('clothes?', 2), ('\"doesn\\'t', 1), ('Through', 1), ('filled', 1), ('hear?', 1), ('rather', 1), ('dish!', 1), ('Gox', 1), ('after', 3), ('scarce,', 1), ('\"I\\'ll', 1), ('SO...', 2), ('swish.', 1), ('litte', 1), ('too!', 1), ('below', 1), ('read', 2), ('doing.', 1), ('blue.', 1), ('book', 2), ('Christmas', 10), ('Yink.', 1), ('thought,', 2), ('shake', 2), ('yelp', 1), ('SHOULD', 2), ('only', 2), ('then,', 2), ('far.', 1), ('chewing!', 1), ('fib', 1), ('old,', 3), ('here!\"', 1), ('So,', 2), ('why,\\x94', 1), ('bad.', 1), ('sir!', 1), ('flash.', 1), ('NO', 2), ('long.', 1), ('did,', 1), ('once,', 1), ('If,', 1), ('least!', 1), ('there?', 2), ('right.', 3), ('cup', 4), ('Whoville!', 1), ('tock.', 2), ('by.', 1), ('...they', 2), ('Joe?', 1), ('side.\"', 1), ('trappings!', 1), ('good,', 1), ('are.', 2), ('When', 12), ('pop', 1), ('of', 48), ('water.', 1), ('oh', 2), ('grinned,', 1), ('\"And', 2), ('down', 13), ('say....', 1), ('Funny', 2), ('stockings,\"', 1), ('three.', 2), ('them', 59), ('CONSTANTINOPLE', 1), ('Whoville,', 3), ('wish,', 2), ('NIGHT', 1), ('dump', 1), ('Ask', 1), ('gump', 1), ('Who-roast', 1), ('bump!', 1), ('\"With', 3), ('JIM', 1), ('Her', 1), ('out!', 1), ('another.', 1), ('very', 4), ('good', 10), ('bends', 2), ('blocks.', 1), ('fox.', 6), ('hair', 3), ('HILL', 2), ('\"In', 1), ('fun.\"', 1), (\"Don't\", 1), ('read,', 1), ('Claus', 3), ('PLOP!', 1), ('Three', 2), ('rubber.', 1), ('here.', 2), ('out!\"', 2), ('bands', 1), ('cats', 1), ('TENT', 1), ('out', 15), ('we', 30), ('houses', 1), ('know', 13), ('heads.', 1), ('look.', 2), ('call.', 2), ('Very', 2), ('past', 2), ('sheep', 1), ('Crumpit,', 1), ('Cat', 11), ('Hello', 1), ('fat', 1), ('TED', 1), ('wood', 1), ('mouse?', 1), ('\"If', 1), ('HIMSELF!', 1), ('Whoville', 4), ('Oh!', 2), ('ear.', 2), ('But', 17), ('ME', 1), ('book.', 1), ('walls', 1), ('The', 23), ('him!', 1), ('chew', 2), ('tent.', 2), ('dish,', 1), ('They', 15), ('hand-in-hand.', 1), ('wet', 7), ('cow?', 1), ('pets', 1), ('\"No!', 3), ('hear', 4), ('call', 10), ('two,', 4), ('tight', 1), ('rose', 2), ('lakes.', 4), ('yellow', 4), ('wink', 1), (\"they'd\", 5), ('fall!\"', 1), ('SNACK', 2), ('let', 6), ('ride', 1), ('Pat.', 1), ('Popcorn!', 1), ('heart', 4), ('tell', 4), ('take', 4), ('brings', 2), ('AWFUL', 1), ('till', 1), ('STOP', 1), ('fire!', 1), ('flue.', 1), ('tall.', 1), ('things', 14), ('lots', 1), ('that?\"', 1), ('LONG', 1), ('Pop.', 3), ('wish.', 1), ('minute,', 1), ('kicks', 1), ('here.\"', 1), ('\"It', 2), ('bright', 2), ('Should', 3), ('dark?', 2), ('upon', 1), ('Mr.', 19), ('sent', 2), ('cannot', 3), ('likely', 1), ('say?', 2), ('mess!', 1), (\"crow's\", 2), ('make', 8), ('\"They\\'re', 2), ('beetle', 7), ('grinchishly', 1), ('hated!', 1), ('dogs', 1), ('lot!\"', 1), ('Luck', 4), ('rare', 1), ('beetles?', 1), ('Zeds.', 1), ('out.', 3), ('breaks.', 2), ('now.', 7), ('Please', 1), ('sings', 1), ('other', 3), ('mouse', 3), ('net,', 1), ('duck', 3), (\"Grinch's\", 1), ('day!', 1), ('mind', 1), ('am', 7), ('good.', 3), ('stood', 1), ('nine,', 1), ('IS', 2), ('hook', 2), ('it.', 5), ('bike.', 1), ('Go', 1), ('And', 99), ('bands.', 2), ('Fox!', 2), ('chimney.', 1), ('Six', 2), ('presents', 1), ('carved', 1), ('brush,', 2), ('Gluey.', 2), ('block', 1), ('bags.', 1), ('glee.', 1), ('Two!\"', 1), ('bad?', 1), ('see?', 1), ('seven', 1), ('Whose', 1), ('nimbly,', 1), ('Packed', 1), ('fight', 2), ('ear', 1), ('thought', 4), ('Pup', 4), ('dear.\"', 1), ('wake', 1), ('fear,', 1), ('ask', 5), ('quick', 7), ('puzzling', 1), (\"hadn't\", 1), ('just', 8), ('It', 13), ('go!', 2), ('jumped.', 1), ('small,', 2), ('hot', 1), ('train!', 5), ('come,', 1), ('gown', 1), ('icebox', 1), ('Santa', 1), ('Who!', 1), ('have', 31), ('when', 5), ('\"I', 16), ('eleven', 1), ('lied,', 1), ('wall!', 1), ('so?\"', 1), ('close', 1), ('Zans', 2), ('tied', 1), ('Sam-I-am!', 2), ('girls', 2), ('house', 7), ('Put', 3), ('stop', 5), ('Box', 1), ('new.', 3), ('homes', 1), ('stockings!\"', 1), ('two', 7), ('goo,', 1), ('ink,', 1), ('PLAY', 1), ('bat.', 1), ('can,', 1), ('into', 2), ('hear.', 1), ('YOU', 1), ('said...', 1), ('What', 18), ('BROWN!', 1), ('lame,', 1), ('Try', 5), ('gave', 1), ('blibber', 1), ('be.', 1), ('fan,', 1), ('is', 79), ('CUP', 2), ('way.', 3), ('BEE', 2), ('poodle,', 1), ('SING!', 4), ('roof,', 1), ('puzzling:', 1), ('eleven!', 1), ('grabbed', 1), ('Nick!\"', 1), ('Thing', 12), ('all!', 4), (\"It's\", 1), ('New', 4), ('away!\"', 1), ('TREE', 1), ('Gump', 1), ('look', 5), ('eating', 1), ('Fox', 7), ('sled,', 1), ('caught', 1), ('grow.', 2), ('lakes', 2), ('wall.', 2), ('Gooey.', 2), ('battles', 1), ('puddle,', 2), ('Gack', 1), ('hanging', 2), ('Rose', 1), ('one,', 2), ('came', 11), ('Nook', 3), ('turned', 1), ('Oh', 6), ('Do,', 1), ('good,\"', 1), ('run', 2), ('mouth', 3), (\"poodle's\", 1), ('THREE', 2), ('cold.', 2), ('tight,', 1), ('green', 10), ('high', 2), ('lit.', 1), ('sad.', 2), ('tight.', 1), ('Yes.', 2), ('not,', 15), ('laughed', 1), ('for', 16), ('ship', 1), ('could', 19), ('please', 3), ('then', 4), ('hump', 2), ('Can', 1), ('Wump?', 1), ('bicycles!', 1), ('so', 16), ('day,', 1), ('any', 2), ('game,\"', 1), ('THERE', 1), ('everywhere.', 3), ('knew,', 1), ('\"Oh', 1), ('Stood', 1), ('shoe', 2), ('think,', 1), ('hook.', 4), ('by', 6), ('FATHER', 1), (\"Sue's\", 4), ('duddled', 1), ('around.', 1), ('Hat!', 1), ('dark!', 2), ('bite', 1), ('two.', 3), ('did', 9), ('net.', 2), ('do.', 1), ('\"That\\'s', 1), ('trick', 5), ('ball.', 4), ('head!', 1), ('fish,', 7), ('sit', 4), ('Came', 2), ('back.Brown', 1), ('\"Tomorrow', 1), ('could,', 1), ('show', 4), ('Why,', 3), ('reason', 1), ('VERY!', 1), ('In', 5), ('Sank', 1), ('dish', 1), ('five,', 1), ('wait', 1), ('As', 3), ('speck', 1), ('nothing', 2), ('not', 88), ('it?', 1), ('Your', 3), ('\"They', 4), ('trees', 3), ('fear!\"', 2), ('WAS', 1), ('cans.', 2), ('\"Santy', 1), ('Noise!', 4), ('pull', 1), ('Hello!', 1), ('game?', 1), ('me', 13), ('up!', 4), ('IDEA!', 1), ('comes.', 4), ('UP-UP-UP', 1), ('quick!', 1), ('socks.', 6), ('fun,', 3), ('goodbye!', 1), ('chimney,', 1), ('talk.', 1), ('know!\"', 2), (\"I'll\", 5), ('beetles....', 1), ('fat.', 1), ('she', 5), ('dawn...', 1), ('Fish', 1), ('up', 32), ('play', 7), ('away.', 3), ('goo.', 4), ('throat.', 1), ('sir.', 27), ('gone.', 1), ('our', 21), ('NED', 1), ('house!\"', 2), ('Saint', 1), ('cake!', 1), ('IT', 1), ('that!', 1), ('cat.', 9), ('FIGHT', 1), ('blab', 1), ('why.', 2), ('met', 1), ('\"Look', 2), ('\"Do', 2), ('perhaps,', 1), ('in,', 1), ('Hat,', 1), ('town.', 4), ('ring', 1), ('coat', 1), ('tongue', 3), ('NOT!', 1), ('easy', 2), ('house,', 2), ('FALL', 1), ('gone', 2), ('Could', 3), ('battle', 7), ('hot,', 1), ('sees', 1), ('lighted', 1), ('that.', 2), ('that.\"', 1), ('should.', 2), ('sour,', 1), ('fish,\"', 1), ('Now!', 1), ('Liked', 1), ('pet,', 1), ('fast.', 4), ('Have', 3), ('Good-by,', 1), ('daughter,', 1), ('need', 2), ('swish', 2), ('wink,', 1), ('goo', 2), (\"they'll\", 1), ('ticks', 2), ('tophopstop', 1), ('brothers', 1), ('Duck', 1), ('moon', 1), ('Wump', 2), ('SEE', 2), ('thing', 6), ('you,', 11), ('tocks,', 2), ('deep', 2), ('Look,', 2), ('sneer,', 1), ('\"No,', 1), ('Donâ\\x80\\x99t', 1), ('jump!', 1), ('a', 198), ('\"A', 1), ('knows', 1), ('him.', 1), ('be!', 2), ('feet', 4), ('do.\"', 1), ('cans?', 1), ('were', 4), ('know,', 2), ('SAT', 1), ('mouths', 1), ('AND...', 3), ('Our', 2), ('minute', 2), ('DO', 1), ('Who-hash!', 1), ('one.', 1), ('If', 8), ('SAD', 1), ('Are', 1), ('workshop,', 1), ('then!', 1), ('mess', 1), ('wish', 9), ('whole', 3), ('Tell', 3), ('car!', 3), ('Thump!', 2), ('game,', 1), (\"Let's\", 3), ('Whos', 4), ('off,', 2), ('himself,', 1), ('hating', 1), ('Grinch', 19), ('small', 5), ('wet.', 2), ('pink.', 1), ('Who,', 1), ('bent', 3), ('thumps', 1), ('they', 16), ('Look', 7), ('find', 7), ('Gack.', 1), ('square.', 1), ('There', 2), ('MOTHER', 1), ('made', 6), ('bricks', 5), ('socks,', 4), ('day?', 1), ('slid', 1), ('why,', 1), ('\"Now!', 1), ('While', 1), ('bottle...', 1), ('cake.', 1), ('Suess', 1), ('shame!', 2), ('Checkerboards!', 1), ('fingers!', 1), ('three,', 1), ('clothes.', 3), ('drink,', 2), ('flew,', 1), ('strings,', 1), ('room,', 1), ('may.', 1), ('great', 1), ('with', 65), ('fish!', 1), ('box', 9), ('saw', 14), ('comes?', 1), ('their', 15), ('funny', 2), ('dots', 1), ('waking', 1), ('something!', 1), ('puddle', 8), ('Would', 13), ('moment', 1), ('My', 15), (\"can't\", 9), ('mouses!', 1), ('goat!', 1), ('same', 1), ('now....', 1), ('hooks', 1), ('know.', 3), ('went', 10), ('that', 32), ('tot,\"', 1), ('train,', 1), ('stop.', 1), ('Ned.', 2), ('tick.', 2), ('Things.\"', 1), ('boat?', 1), ('one', 22), ('ink.', 2), ('should', 8), ('climbed', 1), ('cook', 2), ('Where', 3), ('grow', 1), ('bad', 2), (\"bottle's\", 1), ('called', 7), ('Red', 1), ('asked', 1), ('WHY?\"', 1), ('Pig', 2), ('To', 3), ('tiptop', 1), ('anywhere.', 5), ('goat...', 1), ('snack', 1), ('fleas', 3), ('Grinch.', 1), ('SONG', 1), ('dreams', 1), ('man', 1), ('coming!\"', 2), ('Crow', 4), ('Who-pudding!', 1), ('bottle', 4), ('time', 1), ('Lots', 2), ('sneeze.', 1), ('had', 9), ('comb.', 1), ('sew', 2), ('this?', 1), ('THE', 1), ('TIMBUKTU', 1), ('ice-cold', 1), ('FUN-IN-A-BOX,\"', 1), ('Said', 17), ('Sam-I-am.', 7), ('box.', 14), ('dove.', 1), ('Well...in', 1), ('mother', 11), ('tall', 2), ('bells', 1), ('sank', 1), ('drink.', 2), ('tame.', 1), ('\"Have', 3), ('\"So', 2), ('wuddled', 1), ('be?', 1), ('my!', 2), ('cat...', 1), ('left', 5), ('child.', 1), ('wave', 1), ('HOUSE', 2), ('near!', 1), ('slow,', 1), ('Grinch,Who', 1), ('WILL', 2), ('cheese', 2), ('now,', 2), ('BAT', 1), ('hat!', 2), ('Thing.', 1), ('dear!', 1), ('pink', 1), ('Saw', 1), ('sacks,', 1), ('tip', 2), ('cold,', 2), ('Whatever', 1), ('broom', 2), ('from?', 1), ('Bump', 1), ('Step', 1), ('goat.', 1), ('Christmas,\"', 1), ('most', 2), ('breeze', 2), ('north', 1), ('Nook.', 1), ('POP', 1), ('Sally', 5), ('loaded', 1), ('hours,', 1), ('How', 7), ('NOT', 6), ('dumb', 1), ('boxes', 1), ('hill.', 1), ('some', 19), ('eggs', 10), ('fan!', 1), ('ear?', 1), ('star;', 1), ('reason.', 1), ('makes', 1), ('so,\"', 1), ('\"Now', 4), ('about.', 2), ('wire,', 1), ('noise!', 1), ('stuff,', 1), ('sick', 2), ('\"Why', 2), ('puzzler', 1), ('cleaned', 1), ('go!\"', 1), ('flew.', 1), ('fun.', 1), ('Fast!\"', 1), ('him', 9), ('reindeer,', 1), ('glad', 1), (\"don't\", 4), ('sore.', 1), ('Boom', 1), ('little', 14), ('Well', 1), ('BROWN?', 1), ('sleep', 2), ('AND', 1), ('And,', 1), ('white', 1), ('sad!', 1), ('choose', 2), ('slunk', 1), ('So', 11), ('hands', 2), ('You', 25), ('bad,', 1), ('brought', 1), ('away!', 1), ('head.', 1), ('Dad', 2), ('gold.', 2), ('row.', 1), ('Then,', 1), ('six', 1), ('Like', 1), ('Eve,', 1), ('Nose', 1), ('coming!', 2), ('back.', 1), ('PUP', 3), (\"isn't\", 2), ('book?', 1), ('many', 2), ('\"Take', 1), ('A', 12), ('muddled', 1), ('still', 2), ('head?', 1), ('said,', 12), ('help.', 1), ('care.', 1), ('SING', 1), ('DAY', 1), ('CAME!', 1), ('Cup', 1), ('hop!', 2), ('Their', 1), ('net', 1), ('fuddled', 1), ('car', 1), ('top', 5), ('WONDERFUL,', 1), ('rake,', 1), ('you', 60), ('BooHoo!\"', 1), ('other,', 1), ('been', 2), ('HIM', 1), ('toys!', 2), ('get', 9), ('No,', 1), ('hills', 1), ('FAST', 1), ('I,', 1), ('say.', 8), ('tricks.', 2), ('Hop,', 2), ('We', 33), ('puzzled', 1), ('kites', 2), ('simply', 2), ('jumps', 1), ('Pop', 1), ('down!\"', 2), ('bit.', 2), ('her.', 1), ('sir....', 1), ('tall,', 1), ('Who', 17), ('morning', 1), ('be', 13), ('me!', 5), ('call...', 1), ('From', 6), ('Grinch?', 1), ('littlecar.', 1), ('bee.', 1), ('No', 1), ('what', 16), ('shook!', 1), ('Think', 1), ('four.', 1), ('taking', 2), ('fast', 4), ('Sally.', 1), ('Sam', 3), ('come.', 4), ('load', 2), ('Yink,', 1), ('bottled', 1), ('say,', 3), ('yet!\"', 1), ('hat.', 4), ('NOISE!', 4), ('Joe', 5), ('Mrs.', 1), ('smile', 1), ('string', 1), ('too,', 1), ('dish.', 3), ('booms.', 1), ('All', 8), (\"Luck's\", 1), ('pat.', 1), ('since', 1), ('hill', 1), ('WALL', 1), ('fireplace', 1), ('Did', 7), (\"Luke's\", 1), ('Mt.', 1), ('chicks', 5), ('PAST', 1), ('stuffed', 3), ('talk', 1), ('anywhere!', 1), ('old', 7), ('CAT', 1), ('words', 1), ('fist.', 1), ('hop', 7), ('comb', 1), ('hands.', 1), ('least', 1), ('foot', 2), ('ham.', 5), ('do!!', 1), ('Well,', 1), ('snow', 1), ('long,', 2), ('found', 1), ('SMALL', 1), ('up.', 3), ('Seuss', 2), ('paddled', 1), ('train.', 2), ('likes.', 2), ('anything.', 1), ('or', 14), ('Max.', 2), ('down,', 2), ('takes', 2), ('Eleven!', 1), ('rode', 1), ('With', 8), ('tricks,\"', 1), ('through', 1), ('mouse.', 9), ('see', 7), ('now!\"', 2), ('bends.', 2), ('BUMP', 1), ('rain?', 1), ('hall.', 2), ('wreath.', 1), ('BACK', 1), ('snack.', 1), ('reindeer...\"', 1), ('He', 33), ('On', 10), ('how.', 2), ('SO', 1), ('such', 2), ('fear.', 4), ('hump.', 1), ('pick', 4), ('STILL', 1), (\"they're\", 1), ('Black.', 2), ('screwed', 1), ('\"But', 1), ('seehemewepatpup', 1), ('toy', 4), ('Fall', 1), ('\"My', 1), ('\"are', 1), ('house!', 4), ('growled,', 1), ('blue', 1), ('Tomorrow,', 1), ('on', 57), ('hethreetreebee', 1), ('ship!', 1), ('I', 184), ('like,\"', 1), ('come', 8), ('hold.', 2), ('much', 1), ('Brown', 5), (\"I'm\", 2), ('again.', 1), ('empty', 2), ('number', 1), ('Mike', 2), ('freezy', 1), ('icebox.', 1), (\"Here's\", 2), ('shut', 2), ('Dr.', 3), ('sleep.', 1), ('fan', 2), ('This', 9), ('do!', 1), (\"it's\", 2), ('get.', 1), ('here', 16), ('busy', 1), ('Stuffed', 1), ('chimney!', 1), ('lead', 1), ('more.', 1), ('His', 1), ('funny!\"', 1), ('not!', 1), ('can', 23), ('popped', 1), ('ALL', 6), ('Luke', 4), ('hated', 1), ('eat', 22), ('wet,', 2), ('warm', 1), ('Knox,', 6), ('stuff', 1), ('Whos!\"', 1), ('want', 2), ('Gooey', 1), ('windows', 2), ('moon,', 1), ('your', 14), ('you.', 2), ('still.', 1), ('me.', 2), ('say!\"', 1), ('Some', 10), ('box?', 1), ('\"He', 1), ('back', 6), ('\"Did', 1), ('grows.', 1), ('\"Their', 1), ('dear!\"', 1), ('Tomorrow', 1), ('a-bed,', 1), ('season!', 1), ('drumming,', 1), ('big', 8), ('fish!\"', 2), ('DAD', 1), ('comb,', 3), ('stockings', 1), ('about', 4), ('Sam!', 2), ('\"You', 1), ('slunk,', 1), ('boat!', 1), ('\"All', 1), ('top.', 1), ('bet', 1), ('bet,', 2), ('wall', 1), ('\"Maybe', 2), ('Look!\"', 1), ('this?\"', 1), ('who', 4), ('mother.', 1), ('lie,', 1), ('food', 3), ('lot', 6), ('An', 1), ('log', 1), ('Come', 2), ('dear,', 1), ('Who-pudding,', 1), ('playthings', 1), ('bags!\"', 1), ('play,\"', 1), ('THING', 2), ('Hat', 5), (',', 1), ('gown,', 1), (\"won't\", 3), (\"We'll\", 2), ('Around', 1), ('sounded', 1), ('coat.', 1), ('sleigh', 2), ('every', 4), ('upside', 1), ('things.', 1), ('ringing.', 1), ('tags!', 1), ('all', 22), ('For', 4), ('all.', 4), ('hear!\"', 1), ('pot.', 4), ('lot...', 1), ('hello.', 2), ('Eat', 4), ('Claus,', 1), ('Little', 2), ('Goo-Goose', 1), ('home,', 1), ('crumb', 1), ('Toward', 1), ('HOP', 1), ('Dear!', 1), ('why:', 1), ('noodle-eating', 1), ('bit', 1), ('Now,', 2), ('Socks', 5), ('small.', 2), ('had!', 1), ('another', 3), ('fox', 6), ('then?', 1), ('kinds', 1), ('Sam-I-am', 4), ('so!', 1), ('Gox.', 2), ('boys,', 1), ('finding', 1), ('cake,', 1), ('FEAST!', 4), ('clucked,', 1), ('Cook\"', 1), ('hold', 7), ('too', 9), ('red', 3), ('CindyLou', 1), ('So...', 2), ('no!', 1), ('Very,', 1), ('seven,', 1), ('mot', 1), ('MOUSE', 2), ('ED', 1), ('Here', 5), ('be,', 2), ('Brush,', 1), ('fell', 2), ('the', 220), ('\"There\\'s', 1), ('pinch.', 1), ('humming.', 1), ('it', 18), ('first', 2), ('bed', 5), ('well.', 1), ('Knox....', 1), ('First,', 1), ('silly', 1), ('do?', 3), ('ramshackle', 1), ('horn', 1), ('Stole', 1), ('over', 2), ('those', 5), ('us,', 1), ('man!', 1), ('light', 4), ('and', 99), ('slick,', 2), ('Make', 2), ('socks', 5), ('park', 1), ('bump', 3), ('side', 1), ('Two.', 2), ('beneath,', 1), ('day.', 5), ('you!', 1), ('Those', 1), ('NOW!\"', 1), ('knew', 1), ('trick!\"', 1), ('if', 4), ('trick,\"', 1), ('feast!', 4), ('Wump.', 1), ('\"Your', 1), ('to', 102), ('bow.', 1), ('ten.', 1), ('fifty-three', 1), ('\"How', 4), ('game', 9), ('bumped.', 1), ('my', 27), ('chimney', 2), ('will', 50), ('from', 9), ('Broom', 1), ('tree!', 2), ('awful', 1), ('dog,', 2), ('snow.', 1), ('But,', 3), ('GRINCH', 1), ('Ish', 2), ('Drums!', 1), ('UP', 1), ('shocking', 1), ('hand', 3), ('has', 7), ('ANYWHERE!', 2), ('comes', 1), ('Grinch,', 4), ('cans', 1), ('fun', 9), ('HOW?\"', 1), ('Yop', 1), ('Tricycles!', 1), ('clock', 1), ('bad,\"', 1), ('thread,', 1), ('TALK', 1), ('reindeer', 1), ('Why', 2), ('tags!\"', 1), ('look!', 3), ('cake', 1), ('off', 1), ('roast', 2), ('drink', 4), ('all,', 1), ('idea!', 2), ('me,', 2), ('hitched', 1), ('feast.', 1), ('pet', 3), ('day', 3), ('practically', 1), (\"here's\", 1), ('brooms.', 1), ('play.', 5), ('fast,', 1), ('skates!', 1), ('stick', 1), ('trimmings!', 1), ('fall!', 1), ('tree?', 3), ('words,', 1), ('without', 3), ('By', 1), ('it!', 4), ('\"Look!', 1), ('bags,', 1), ('does', 3), ('day.\"', 1), ('Big', 2)]\n"
     ]
    },
    {
     "name": "stdout",
     "output_type": "stream",
     "text": [
      "[]\n"
     ]
    }
   ],
   "source": [
    "ssc.start()"
   ]
  },
  {
   "cell_type": "code",
   "execution_count": 8,
   "metadata": {},
   "outputs": [
    {
     "name": "stdout",
     "output_type": "stream",
     "text": [
      "[]\n",
      "[]\n"
     ]
    }
   ],
   "source": [
    "ssc.stop(stopSparkContext=True, stopGraceFully=True)"
   ]
  },
  {
   "cell_type": "markdown",
   "metadata": {},
   "source": [
    "## References\n",
    "1. https://spark.apache.org/docs/latest/streaming-programming-guide.html#design-patterns-for-using-foreachrdd"
   ]
  },
  {
   "cell_type": "markdown",
   "metadata": {},
   "source": [
    " "
   ]
  }
 ],
 "metadata": {
  "kernelspec": {
   "display_name": "Python 3",
   "language": "python",
   "name": "python3"
  },
  "language_info": {
   "codemirror_mode": {
    "name": "ipython",
    "version": 3
   },
   "file_extension": ".py",
   "mimetype": "text/x-python",
   "name": "python",
   "nbconvert_exporter": "python",
   "pygments_lexer": "ipython3",
   "version": "3.5.2"
  }
 },
 "nbformat": 4,
 "nbformat_minor": 2
}
