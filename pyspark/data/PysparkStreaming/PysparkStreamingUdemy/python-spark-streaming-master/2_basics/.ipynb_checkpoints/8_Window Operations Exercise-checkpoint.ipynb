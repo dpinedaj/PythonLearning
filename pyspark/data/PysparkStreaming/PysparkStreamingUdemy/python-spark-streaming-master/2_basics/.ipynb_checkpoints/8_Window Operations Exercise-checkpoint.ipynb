{
 "cells": [
  {
   "cell_type": "markdown",
   "metadata": {},
   "source": [
    "# Window Operations Exercise"
   ]
  },
  {
   "cell_type": "markdown",
   "metadata": {},
   "source": [
    "1. What is Window Operations(better with some graphs)\n",
    "2. Explain parameters (window length and sliding interval)\n",
    "3. Some of the popular Window operations\n",
    "    * Window\n",
    "    * countByWindow\n",
    "    * reduceByKeyAndWindow\n",
    "    * countByValueAndWindow\n"
   ]
  },
  {
   "cell_type": "markdown",
   "metadata": {},
   "source": [
    "Spark Streaming also provides windowed computations, which allow you to apply transformations over a sliding window of data. The following figure illustrates this sliding window.\n",
    "\n",
    "![Spark Streaming Data Flow](https://spark.apache.org/docs/latest/img/streaming-dstream-window.png)\n",
    "\n",
    "As shown in the figure, every time the window slides over a source DStream, the source RDDs that fall within the window are combined and operated upon to produce the RDDs of the windowed DStream. In this specific case, the operation is applied over the last 3 time units of data, and slides by 2 time units. This shows that any window operation needs to specify two parameters\n",
    "\n",
    "* window length - The duration of the window (3 in the figure).\n",
    "* sliding interval - The interval at which the window operation is performed (2 in the figure).\n",
    "\n",
    "These two parameters must be multiples of the batch interval of the source DStream (1 in the figure).\n",
    "<p>\n",
    "Let’s illustrate the window operations with an example. Say, you want to extend the earlier example by generating word counts over the last 30 seconds of data, every 10 seconds. To do this, we have to apply the reduceByKey operation on the pairs DStream of (word, 1) pairs over the last 30 seconds of data. This is done using the operation reduceByKeyAndWindow.\n",
    "```python\n",
    "# Reduce last 30 seconds of data, every 10 seconds\n",
    "windowedWordCounts = pairs.reduceByKeyAndWindow(lambda x, y: x + y, lambda x, y: x - y, 30, 10)\n",
    "```\n",
    "Some of the common window operations are as follows. All of these operations take the said two parameters - windowLength and slideInterval.\n",
    "\n",
    "| Transformation        | Meaning           |\n",
    "| -------------:|:-------------|\n",
    "| **window**(windowLength, slideInterval)      | Return a new DStream which is computed based on windowed batches of the source DStream. |\n",
    "| **countByWindow**(windowLength, slideInterval)     | Return a sliding window count of elements in the stream.     |\n",
    "| **reduceByWindow**(func, windowLength, slideInterval) | Return a new single-element stream, created by aggregating elements in the stream over a sliding interval using func. The function should be associative and commutative so that it can be computed correctly in parallel.     |\n",
    "| **reduceByKeyAndWindow**(func, windowLength, slideInterval, [numTasks])     | When called on a DStream of (K, V) pairs, returns a new DStream of (K, V) pairs where the values for each key are aggregated using the given reduce function func over batches in a sliding window. Note: By default, this uses Spark's default number of parallel tasks (2 for local mode, and in cluster mode the number is determined by the config property spark.default.parallelism) to do the grouping. You can pass an optional numTasks argument to set a different number of tasks. |\n",
    "| **reduceByKeyAndWindow**(func, invFunc, windowLength, slideInterval, [numTasks])      | A more efficient version of the above reduceByKeyAndWindow() where the reduce value of each window is calculated incrementally using the reduce values of the previous window. This is done by reducing the new data that enters the sliding window, and “inverse reducing” the old data that leaves the window. An example would be that of “adding” and “subtracting” counts of keys as the window slides. However, it is applicable only to “invertible reduce functions”, that is, those reduce functions which have a corresponding “inverse reduce” function (taken as parameter invFunc). Like in reduceByKeyAndWindow, the number of reduce tasks is configurable through an optional argument. Note that checkpointing must be enabled for using this operation.      |\n",
    "| **countByValueAndWindow**(windowLength, slideInterval, [numTasks]) | When called on a DStream of (K, V) pairs, returns a new DStream of (K, Long) pairs where the value of each key is its frequency within a sliding window. Like in reduceByKeyAndWindow, the number of reduce tasks is configurable through an optional argument.      |"
   ]
  },
  {
   "cell_type": "markdown",
   "metadata": {},
   "source": [
    "### Exercise"
   ]
  },
  {
   "cell_type": "code",
   "execution_count": null,
   "metadata": {
    "collapsed": true
   },
   "outputs": [],
   "source": [
    "from pyspark import SparkConf, SparkContext\n",
    "from pyspark.streaming import StreamingContext\n",
    "import sys\n",
    "import random\n",
    "from apache_log_parser import ApacheAccessLog\n",
    "\n",
    "random.seed(15)\n",
    "\n",
    "if len(sys.argv) != 2:\n",
    "    print('Please provide the path to Apache log file')\n",
    "    print('10_10.py <path_to_log_directory>')\n",
    "    sys.exit(2)\n",
    "\n",
    "conf = (SparkConf().setMaster(\"local[4]\").setAppName(\"log processor\").set(\"spark.executor.memory\", \"2g\"))\n",
    "\n",
    "sc = SparkContext(conf=conf)\n",
    "\n",
    "ssc = StreamingContext(sc, 2)\n",
    "ssc.checkpoint(\"checkpoint\")\n",
    " \n",
    "directory = sys.argv[1]\n",
    "print(directory)\n",
    "\n",
    "# create DStream from text file\n",
    "# Note: the spark streaming checks for any updates to this directory.\n",
    "# So first, start this program, and then copy the log file logs/access_log.log to 'directory' location\n",
    "log_data = ssc.textFileStream(directory)\n",
    "access_log_dstream = log_data.map(ApacheAccessLog.parse_from_log_line).filter(lambda parsed_line: parsed_line is not None)\n",
    "ip_dstream = access_log_dstream.map(lambda parsed_line: (parsed_line.ip, 1)) \n",
    "ip_count = ip_dstream.reduceByKey(lambda x,y: x+y)\n",
    "ip_count.pprint(num = 30)\n",
    "ip_bytes_dstream = access_log_dstream.map(lambda parsed_line: (parsed_line.ip, parsed_line.content_size))\n",
    "ip_bytes_sum_dstream = ip_bytes_dstream.reduceByKey(lambda x,y: x+y)\n",
    "ip_bytes_request_count_dstream = ip_count.join(ip_bytes_sum_dstream)\n",
    "ip_bytes_request_count_dstream.pprint(num = 30)\n",
    "\n",
    "def extractOutliers(rdd):\n",
    "    # Currently, no logic implemented, but as a bonus you can implement any rdd logic here\n",
    "    return rdd\n",
    "\n",
    "transformed_access_log_dstream = access_log_dstream.transform(extractOutliers)\n",
    "transformed_access_log_dstream.pprint()\n",
    "\n",
    "####### TODO: use window()to count data over a window##########################\n",
    "access_logs_window = access_log_dstream.window(windowDuration = 6, slideDuration=4) \n",
    "window_counts = access_logs_window.count()\n",
    "print( \" Window count: \")\n",
    "window_counts.pprint()\n",
    "\n",
    "####### Exercise End ##########################################################\n",
    "\n",
    "ip_count_dstream = ip_dstream.reduceByKeyAndWindow(func = lambda x,y: x+y, invFunc = lambda x,y: x-y, windowDuration = 6, slideDuration=4)\n",
    "ip_count_dstream.pprint(num=30)\n",
    "ip_dstream = access_log_dstream.map(lambda entry: entry.ip)\n",
    "ip_address_request_count = ip_dstream.countByValueAndWindow(windowDuration = 6, slideDuration=4)\n",
    "ip_address_request_count.pprint()\n",
    "request_count = access_log_dstream.countByWindow(windowDuration = 6, slideDuration=4)\n",
    "request_count.pprint()\n",
    "\n",
    "def state_full_sum(new_values, global_sum):\n",
    "    return sum(new_values) + (global_sum or 0)\n",
    "\n",
    "response_code_dstream = access_log_dstream.map(lambda entry: (entry.response_code, 1))\n",
    "response_code_count_dstream = response_code_dstream.updateStateByKey(state_full_sum)\n",
    "response_code_count_dstream.pprint()\n",
    "\n",
    "ip_address_request_count.saveAsTextFiles(prefix = \"outputDir\", suffix = \"txt\")\n",
    "\n",
    "ssc.start() \n",
    "ssc.awaitTermination()\n"
   ]
  },
  {
   "cell_type": "markdown",
   "metadata": {},
   "source": [
    "## References\n",
    "1. https://spark.apache.org/docs/latest/streaming-programming-guide.html#discretized-streams-dstreams"
   ]
  },
  {
   "cell_type": "markdown",
   "metadata": {},
   "source": [
    " "
   ]
  }
 ],
 "metadata": {
  "kernelspec": {
   "display_name": "Python 3",
   "language": "python",
   "name": "python3"
  },
  "language_info": {
   "codemirror_mode": {
    "name": "ipython",
    "version": 3
   },
   "file_extension": ".py",
   "mimetype": "text/x-python",
   "name": "python",
   "nbconvert_exporter": "python",
   "pygments_lexer": "ipython3",
   "version": "3.6.3"
  }
 },
 "nbformat": 4,
 "nbformat_minor": 2
}
