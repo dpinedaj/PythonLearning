{
 "cells": [
  {
   "cell_type": "markdown",
   "metadata": {},
   "source": [
    "# foreachRDD Exercise"
   ]
  },
  {
   "cell_type": "markdown",
   "metadata": {},
   "source": [
    "Explain foreachRDD and the basic usage about foreachRDD"
   ]
  },
  {
   "cell_type": "markdown",
   "metadata": {},
   "source": [
    "### Exercise"
   ]
  },
  {
   "cell_type": "code",
   "execution_count": null,
   "metadata": {
    "collapsed": true
   },
   "outputs": [],
   "source": [
    "import pyspark\n",
    "import pyspark.streaming\n",
    "from pyspark.streaming import SparkContext\n",
    "from pyspark.streaming import StreamingContext\n",
    "import utils\n",
    "import twitter_app\n",
    "\n",
    "\n",
    "twitter_app()\n",
    "\n",
    "ssc = StreamingContext(\"local[*]\", \"SaveTweets\", Seconds(1))\n",
    "\n",
    "tweets = TwitterUtils.createStream(ssc, None)\n",
    "    \n",
    "# Now extract the text of each status update into RDD's using map()\n",
    "statuses = tweets.map(lambda status: status.getText())\n",
    "\n",
    "totalTweets = int(0)\n",
    "        \n",
    "def twitterStatus(rdd, time):\n",
    "    \n",
    "    if rdd.count() > 0:\n",
    "    \n",
    "        repartitionedRDD = rdd.repartition(1).cache()\n",
    "        repartitionedRDD.saveAsTextFile(\"Tweets_\" + time.milliseconds.toString)\n",
    "        \n",
    "        totalTweets += repartitionedRDD.count()\n",
    "        print(\"Tweet count: \" + totalTweets)\n",
    "        if totalTweets > 1000:\n",
    "            sys.exit(0)\n",
    "\n",
    "# TODO: use ForeachRDD to process the 'twitterStatus()' function\n",
    "statuses.foreachRDD(twitterStatus(rdd, time))\n",
    "    \n",
    "ssc.start()\n",
    "ssc.awaitTermination()"
   ]
  },
  {
   "cell_type": "markdown",
   "metadata": {},
   "source": [
    "## References\n",
    "1. https://spark.apache.org/docs/latest/streaming-programming-guide.html#design-patterns-for-using-foreachrdd"
   ]
  },
  {
   "cell_type": "markdown",
   "metadata": {},
   "source": [
    " "
   ]
  }
 ],
 "metadata": {
  "kernelspec": {
   "display_name": "Python 3",
   "language": "python",
   "name": "python3"
  },
  "language_info": {
   "codemirror_mode": {
    "name": "ipython",
    "version": 3
   },
   "file_extension": ".py",
   "mimetype": "text/x-python",
   "name": "python",
   "nbconvert_exporter": "python",
   "pygments_lexer": "ipython3",
   "version": "3.6.3"
  }
 },
 "nbformat": 4,
 "nbformat_minor": 2
}
