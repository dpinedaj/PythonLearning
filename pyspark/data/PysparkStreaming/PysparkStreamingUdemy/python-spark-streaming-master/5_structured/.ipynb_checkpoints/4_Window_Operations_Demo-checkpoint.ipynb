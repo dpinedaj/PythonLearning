{
 "cells": [
  {
   "cell_type": "markdown",
   "metadata": {},
   "source": [
    "# Window Operations Demo"
   ]
  },
  {
   "cell_type": "markdown",
   "metadata": {},
   "source": [
    "### Demo"
   ]
  },
  {
   "cell_type": "code",
   "execution_count": 1,
   "metadata": {},
   "outputs": [],
   "source": [
    "import findspark\n",
    "# TODO: your path will likely not have 'matthew' in it. Change it to reflect your path.\n",
    "findspark.init('/home/matthew/spark-2.3.0-bin-hadoop2.7')"
   ]
  },
  {
   "cell_type": "code",
   "execution_count": 2,
   "metadata": {},
   "outputs": [],
   "source": [
    "import sys\n",
    "\n",
    "from pyspark.sql import SparkSession\n",
    "from pyspark.sql.functions import explode\n",
    "from pyspark.sql.functions import split\n",
    "from pyspark.sql.functions import window\n",
    "from pyspark.sql.types import StructType\n",
    "from pyspark.sql.streaming import DataStreamReader"
   ]
  },
  {
   "cell_type": "code",
   "execution_count": 3,
   "metadata": {},
   "outputs": [],
   "source": [
    "windowSize = \"60\"\n",
    "slideSize = \"10\"\n",
    "\n",
    "windowDuration = '{} seconds'.format(windowSize)\n",
    "slideDuration = '{} seconds'.format(slideSize)\n",
    "monitoring_dir = 'monitoring_data'"
   ]
  },
  {
   "cell_type": "code",
   "execution_count": 4,
   "metadata": {},
   "outputs": [],
   "source": [
    "spark = SparkSession\\\n",
    "    .builder\\\n",
    "    .appName(\"InteractionCount\")\\\n",
    "    .config(\"spark.eventLog.enabled\",\"true\")\\\n",
    "    .config(\"spark.eventLog.dir\",\"applicationHistory\")\\\n",
    "    .master(\"local[*]\")\\\n",
    "    .getOrCreate()"
   ]
  },
  {
   "cell_type": "code",
   "execution_count": 5,
   "metadata": {},
   "outputs": [],
   "source": [
    "userSchema = StructType().add(\"userA\",\"string\")\\\n",
    "                         .add(\"userB\",\"string\")\\\n",
    "                         .add(\"timestamp\",\"timestamp\")\\\n",
    "                         .add(\"interaction\",\"string\")"
   ]
  },
  {
   "cell_type": "code",
   "execution_count": 6,
   "metadata": {},
   "outputs": [],
   "source": [
    "twitterIDSchema = StructType().add(\"userA\",\"string\")\n",
    "twitterIDs = spark.read.schema(twitterIDSchema).csv('twitterIDs.csv')\n",
    "csvDF = spark\\\n",
    "    .readStream\\\n",
    "    .schema(userSchema)\\\n",
    "    .csv(monitoring_dir)\n",
    "\n",
    "joinedDF = csvDF.join(twitterIDs,\"userA\")"
   ]
  },
  {
   "cell_type": "code",
   "execution_count": 7,
   "metadata": {},
   "outputs": [],
   "source": [
    "interactions = joinedDF.select(joinedDF['userA'],joinedDF['interaction'],joinedDF['timestamp'])"
   ]
  },
  {
   "cell_type": "code",
   "execution_count": 8,
   "metadata": {},
   "outputs": [],
   "source": [
    "windowedCounts = interactions.groupBy(\n",
    "                       window(interactions.timestamp, windowDuration, slideDuration),interactions.userA)\\\n",
    "                       .count()"
   ]
  },
  {
   "cell_type": "code",
   "execution_count": null,
   "metadata": {},
   "outputs": [],
   "source": [
    "query = windowedCounts\\\n",
    "    .writeStream\\\n",
    "    .outputMode('complete')\\\n",
    "    .format('console')\\\n",
    "    .option('truncate','false')\\\n",
    "    .option('numRows','10000')\\\n",
    "    .trigger(processingTime='12 seconds')\\\n",
    "    .start()\n",
    "\n",
    "query.awaitTermination()"
   ]
  },
  {
   "cell_type": "markdown",
   "metadata": {},
   "source": [
    " "
   ]
  }
 ],
 "metadata": {
  "kernelspec": {
   "display_name": "Python 3",
   "language": "python",
   "name": "python3"
  },
  "language_info": {
   "codemirror_mode": {
    "name": "ipython",
    "version": 3
   },
   "file_extension": ".py",
   "mimetype": "text/x-python",
   "name": "python",
   "nbconvert_exporter": "python",
   "pygments_lexer": "ipython3",
   "version": "3.5.2"
  }
 },
 "nbformat": 4,
 "nbformat_minor": 2
}
