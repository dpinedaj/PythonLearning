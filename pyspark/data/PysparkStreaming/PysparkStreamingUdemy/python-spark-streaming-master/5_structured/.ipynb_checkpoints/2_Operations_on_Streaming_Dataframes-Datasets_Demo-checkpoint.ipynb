{
 "cells": [
  {
   "cell_type": "markdown",
   "metadata": {},
   "source": [
    "# Operations on Streaming Dataframes/Datasets Demo"
   ]
  },
  {
   "cell_type": "markdown",
   "metadata": {},
   "source": [
    "### Demo"
   ]
  },
  {
   "cell_type": "code",
   "execution_count": 1,
   "metadata": {},
   "outputs": [],
   "source": [
    "import findspark\n",
    "# TODO: your path will likely not have 'matthew' in it. Change it to reflect your path.\n",
    "findspark.init('/home/matthew/spark-2.3.0-bin-hadoop2.7')"
   ]
  },
  {
   "cell_type": "code",
   "execution_count": 2,
   "metadata": {},
   "outputs": [],
   "source": [
    "import sys\n",
    "\n",
    "from pyspark.sql import SparkSession\n",
    "from pyspark.sql.functions import explode, current_timestamp\n",
    "from pyspark.sql.functions import split\n",
    "from pyspark.sql.functions import window\n",
    "from pyspark.sql.types import StructType, TimestampType"
   ]
  },
  {
   "cell_type": "code",
   "execution_count": 3,
   "metadata": {},
   "outputs": [],
   "source": [
    "staging_dir = 'monitoring_data'"
   ]
  },
  {
   "cell_type": "code",
   "execution_count": 4,
   "metadata": {},
   "outputs": [],
   "source": [
    "spark = SparkSession\\\n",
    "            .builder\\\n",
    "            .appName(\"UserInteractionAnalyzer\")\\\n",
    "            .getOrCreate()"
   ]
  },
  {
   "cell_type": "code",
   "execution_count": 5,
   "metadata": {},
   "outputs": [],
   "source": [
    "# Read all the csv files written atomically in a directory\n",
    "# The schema is as follows:\n",
    "# userA, userB, timestamp, interaction\n",
    "userSchema = StructType()\\\n",
    "              .add(\"userA\", \"integer\")\\\n",
    "              .add(\"userB\", \"integer\")\\\n",
    "              .add(\"timestamp\", TimestampType())\\\n",
    "              .add(\"interaction\", \"string\")"
   ]
  },
  {
   "cell_type": "code",
   "execution_count": 6,
   "metadata": {},
   "outputs": [],
   "source": [
    "# Create DataFrame representing the stream of input lines from connection to localhost:9999\n",
    "activity = spark\\\n",
    "             .readStream\\\n",
    "             .option(\"sep\", \",\")\\\n",
    "             .schema(userSchema)\\\n",
    "             .csv(staging_dir+\"/*.csv\")"
   ]
  },
  {
   "cell_type": "code",
   "execution_count": 7,
   "metadata": {},
   "outputs": [],
   "source": [
    "wordCounts = activity\\\n",
    "                .select(\"userB\")\\\n",
    "                .where(\"interaction = \\\"MT\\\"\")"
   ]
  },
  {
   "cell_type": "code",
   "execution_count": null,
   "metadata": {},
   "outputs": [],
   "source": [
    "query = wordCounts\\\n",
    "          .writeStream.trigger(processingTime='10 seconds')\\\n",
    "          .format(\"parquet\")\\\n",
    "          .option(\"checkpointLocation\", \"applicationHistory\") \\\n",
    "          .option(\"path\",staging_dir+\"/out\")\\\n",
    "          .start()\n",
    "        \n",
    "query2 = wordCounts\\\n",
    "          .writeStream\\\n",
    "          .trigger(processingTime='10 seconds')\\\n",
    "          .format(\"console\")\\\n",
    "          .start()\n",
    "\n",
    "query.awaitTermination()\n",
    "# spark.sql(\"select * from aggregates\").show()   # interactively query in-memory table"
   ]
  },
  {
   "cell_type": "markdown",
   "metadata": {},
   "source": [
    " "
   ]
  }
 ],
 "metadata": {
  "kernelspec": {
   "display_name": "Python 3",
   "language": "python",
   "name": "python3"
  },
  "language_info": {
   "codemirror_mode": {
    "name": "ipython",
    "version": 3
   },
   "file_extension": ".py",
   "mimetype": "text/x-python",
   "name": "python",
   "nbconvert_exporter": "python",
   "pygments_lexer": "ipython3",
   "version": "3.5.2"
  }
 },
 "nbformat": 4,
 "nbformat_minor": 2
}
