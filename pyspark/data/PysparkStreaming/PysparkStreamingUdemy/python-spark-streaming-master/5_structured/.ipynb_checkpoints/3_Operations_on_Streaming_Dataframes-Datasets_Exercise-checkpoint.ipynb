{
 "cells": [
  {
   "cell_type": "markdown",
   "metadata": {},
   "source": [
    "# Operations on Streaming Dataframes/Datasets Exercise"
   ]
  },
  {
   "cell_type": "markdown",
   "metadata": {},
   "source": [
    "Example Dataset:\n",
    "\n",
    "| time              | oId   | cId   | qty | price | buy  |\n",
    "|-------------------|-------|-------|-----|-------|------|\n",
    "| 3/18/2018 2:15:18 | 34626 | 39835 |  5  | 4.72  | buy  |\n",
    "| 3/18/2018 2:24:31 | 84260 | 5443  |  9  | 15.26 | buy  |\n",
    "| 3/18/2018 2:33:44 | 56050 | 77178 |  8  | 4.07  | buy  |\n",
    "| 3/18/2018 2:42:57 | 32973 | 34441 |  5  | 15.49 | sell |\n",
    "| 3/18/2018 2:52:10 | 57264 | 98905 |  8  | 1.31  | sell |\n",
    "| 3/18/2018 3:01:23 | 21039 | 5821  |  9  | 18.85 | buy  |\n",
    "| 3/18/2018 3:10:36 | 31880 | 86234 |  6  | 19.22 | buy  |\n",
    "| 3/18/2018 3:19:49 | 82931 | 29797 |  9  | 18.10 | buy  |"
   ]
  },
  {
   "cell_type": "markdown",
   "metadata": {},
   "source": [
    "### Exercise"
   ]
  },
  {
   "cell_type": "code",
   "execution_count": null,
   "metadata": {},
   "outputs": [],
   "source": [
    "import findspark\n",
    "# TODO: your path will likely not have 'matthew' in it. Change it to reflect your path.\n",
    "findspark.init('/home/matthew/spark-2.3.0-bin-hadoop2.7')"
   ]
  },
  {
   "cell_type": "code",
   "execution_count": null,
   "metadata": {},
   "outputs": [],
   "source": [
    "from pyspark.sql import SparkSession\n",
    "from pyspark.sql.types import StructType\n",
    "from pyspark.sql.functions import explode\n",
    "from pyspark.sql.functions import split"
   ]
  },
  {
   "cell_type": "code",
   "execution_count": null,
   "metadata": {},
   "outputs": [],
   "source": [
    "spark = SparkSession.builder.appName(\"StreamingBuyCounter\").getOrCreate()\n",
    "\n",
    "# TODO: Add in the schema for the data from buys.csv\n",
    "structType = "
   ]
  },
  {
   "cell_type": "code",
   "execution_count": null,
   "metadata": {},
   "outputs": [],
   "source": [
    "# TODO: read the Stream from a csv file, using the struct defined above\n",
    "filestream = \n",
    "\n",
    "# TODO: use groupBy on the \"buy\" column to count the number of buys\n",
    "buySellCount = "
   ]
  },
  {
   "cell_type": "code",
   "execution_count": null,
   "metadata": {},
   "outputs": [],
   "source": [
    "# TODO: Define the query, and output the calculations to the console in \"complete\" mode\n",
    "query = \n",
    "    \n",
    "query.awaitTermination()"
   ]
  },
  {
   "cell_type": "markdown",
   "metadata": {},
   "source": [
    "## References\n",
    "1. "
   ]
  },
  {
   "cell_type": "markdown",
   "metadata": {},
   "source": [
    " "
   ]
  }
 ],
 "metadata": {
  "kernelspec": {
   "display_name": "Python 3",
   "language": "python",
   "name": "python3"
  },
  "language_info": {
   "codemirror_mode": {
    "name": "ipython",
    "version": 3
   },
   "file_extension": ".py",
   "mimetype": "text/x-python",
   "name": "python",
   "nbconvert_exporter": "python",
   "pygments_lexer": "ipython3",
   "version": "3.5.2"
  }
 },
 "nbformat": 4,
 "nbformat_minor": 2
}
