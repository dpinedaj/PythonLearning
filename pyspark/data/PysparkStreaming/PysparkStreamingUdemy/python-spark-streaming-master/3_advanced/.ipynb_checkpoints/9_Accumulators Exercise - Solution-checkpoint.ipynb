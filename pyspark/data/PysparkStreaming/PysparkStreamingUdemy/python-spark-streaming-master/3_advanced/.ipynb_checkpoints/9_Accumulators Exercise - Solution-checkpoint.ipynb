{
 "cells": [
  {
   "cell_type": "markdown",
   "metadata": {},
   "source": [
    "# Accumulators Exercise"
   ]
  },
  {
   "cell_type": "markdown",
   "metadata": {},
   "source": [
    "### Exercise"
   ]
  },
  {
   "cell_type": "code",
   "execution_count": 1,
   "metadata": {},
   "outputs": [],
   "source": [
    "import findspark\n",
    "# TODO: your path will likely not have 'matthew' in it. Change it to reflect your path.\n",
    "findspark.init('/home/matthew/spark-2.1.0-bin-hadoop2.7')"
   ]
  },
  {
   "cell_type": "code",
   "execution_count": 2,
   "metadata": {},
   "outputs": [],
   "source": [
    "import os\n",
    "import sys\n",
    "from pyspark import SparkContext\n",
    "from pyspark.streaming import StreamingContext\n",
    "from pyspark.accumulators import AccumulatorParam"
   ]
  },
  {
   "cell_type": "code",
   "execution_count": 3,
   "metadata": {},
   "outputs": [],
   "source": [
    "# creating spark context   \n",
    "sc = SparkContext() "
   ]
  },
  {
   "cell_type": "code",
   "execution_count": 4,
   "metadata": {},
   "outputs": [
    {
     "name": "stdout",
     "output_type": "stream",
     "text": [
      "[1.0, 2.0, 3.0]\n"
     ]
    }
   ],
   "source": [
    "#Class of functions that will be fed into the accumulator  \n",
    "\n",
    "class DiffAccumulatorParam(AccumulatorParam):\n",
    "    #TODO: Define function that zeroes out values in a dictionary using a loop\n",
    "    def zero(self, value):    \n",
    "        return [0.0] * len(value)\n",
    "    #### END OF THIS EXERCISE SECTION ###### \n",
    "    \n",
    "    #TODO: Define function that adds corresponding values in a dictionary using a loop\n",
    "    def addInPlace(self, val1, val2):  \n",
    "        for i in range(len(val1)):\n",
    "            val1[i] += val2[i]\n",
    "        return val1\n",
    "    #### END OF THIS EXERCISE SECTION ###### \n",
    "\n",
    "#input vector\n",
    "d = [1.0, 2.0, 3.0]\n",
    " \n",
    "#TODO: Create an accumulator, `va` that takes in the DiffAccumulatorParam class\n",
    "va = sc.accumulator(d, DiffAccumulatorParam()) \n",
    "#### END OF THIS EXERCISE SECTION ###### \n",
    "print(va.value)"
   ]
  },
  {
   "cell_type": "code",
   "execution_count": 5,
   "metadata": {},
   "outputs": [
    {
     "name": "stdout",
     "output_type": "stream",
     "text": [
      "[7.0, 8.0, 9.0]\n"
     ]
    }
   ],
   "source": [
    "rdd1 = sc.parallelize(d)\n",
    "# action to be executed on rdd in order to diff vectors  \n",
    "def diff(x):  \n",
    "    global va  \n",
    "    va += [x] * 3  \n",
    "rdd1.foreach(diff)   \n",
    "\n",
    "#TODO: print the value of accumulator  \n",
    "print(va.value)\n",
    "#### END OF THIS EXERCISE SECTION ###### "
   ]
  },
  {
   "cell_type": "markdown",
   "metadata": {},
   "source": [
    "## References\n",
    "1. https://spark.apache.org/docs/latest/streaming-programming-guide.html#accumulators-broadcast-variables-and-checkpoints"
   ]
  },
  {
   "cell_type": "markdown",
   "metadata": {},
   "source": [
    " "
   ]
  }
 ],
 "metadata": {
  "kernelspec": {
   "display_name": "Python 3",
   "language": "python",
   "name": "python3"
  },
  "language_info": {
   "codemirror_mode": {
    "name": "ipython",
    "version": 3
   },
   "file_extension": ".py",
   "mimetype": "text/x-python",
   "name": "python",
   "nbconvert_exporter": "python",
   "pygments_lexer": "ipython3",
   "version": "3.5.2"
  }
 },
 "nbformat": 4,
 "nbformat_minor": 2
}
